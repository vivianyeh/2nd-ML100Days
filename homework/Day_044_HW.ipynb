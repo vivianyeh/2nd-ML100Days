{
 "cells": [
  {
   "cell_type": "markdown",
   "metadata": {},
   "source": [
    "## [作業重點]\n",
    "確保你了解隨機森林模型中每個超參數的意義，並觀察調整超參數對結果的影響"
   ]
  },
  {
   "cell_type": "markdown",
   "metadata": {},
   "source": [
    "## 作業\n",
    "\n",
    "1. 試著調整 RandomForestClassifier(...) 中的參數，並觀察是否會改變結果？\n",
    "2. 改用其他資料集 (boston, wine)，並與回歸模型與決策樹的結果進行比較"
   ]
  },
  {
   "cell_type": "code",
   "execution_count": 1,
   "metadata": {},
   "outputs": [],
   "source": [
    "from sklearn import datasets, metrics\n",
    "from sklearn.ensemble import RandomForestClassifier\n",
    "from sklearn.model_selection import train_test_split\n",
    "from sklearn.tree import DecisionTreeClassifier, DecisionTreeRegressor"
   ]
  },
  {
   "cell_type": "code",
   "execution_count": 2,
   "metadata": {},
   "outputs": [
    {
     "name": "stdout",
     "output_type": "stream",
     "text": [
      "Accuracy:  1.0\n",
      "Accuracy2:  1.0\n",
      "['alcohol', 'malic_acid', 'ash', 'alcalinity_of_ash', 'magnesium', 'total_phenols', 'flavanoids', 'nonflavanoid_phenols', 'proanthocyanins', 'color_intensity', 'hue', 'od280/od315_of_diluted_wines', 'proline']\n",
      "Feature importance:  [0.16821569 0.01252186 0.01130857 0.0345646  0.01977395 0.03794994\n",
      " 0.11908952 0.00747896 0.06188873 0.07070118 0.15172174 0.08511584\n",
      " 0.21966943]\n",
      "Feature importance:  [0.20498257 0.0183151  0.         0.06229667 0.00616771 0.05023099\n",
      " 0.07980516 0.01112719 0.00229    0.11362532 0.12628726 0.15882466\n",
      " 0.16604736]\n"
     ]
    }
   ],
   "source": [
    "wine = datasets.load_wine()\n",
    "\n",
    "# 切分訓練集/測試集\n",
    "x_train, x_test, y_train, y_test = train_test_split(wine.data, wine.target, test_size=0.25, random_state=4)\n",
    "\n",
    "# 建立模型 (使用 20 顆樹，每棵樹的最大深度為 4)\n",
    "clf  = RandomForestClassifier(n_estimators=20, max_depth=4)\n",
    "clf2 = RandomForestClassifier(n_estimators=20, max_depth=4, max_leaf_nodes=5)\n",
    "\n",
    "# 訓練模型\n",
    "clf.fit(x_train, y_train)\n",
    "clf2.fit(x_train, y_train)\n",
    "\n",
    "# 預測測試集\n",
    "y_pred  = clf.predict(x_test)\n",
    "y_pred2 = clf2.predict(x_test)\n",
    "\n",
    "acc = metrics.accuracy_score(y_test, y_pred)\n",
    "acc2 = metrics.accuracy_score(y_test, y_pred2)\n",
    "print(\"Accuracy: \", acc)\n",
    "print(\"Accuracy2: \", acc2)\n",
    "print(wine.feature_names)\n",
    "print(\"Feature importance: \", clf.feature_importances_)\n",
    "print(\"Feature importance: \", clf2.feature_importances_)"
   ]
  },
  {
   "cell_type": "code",
   "execution_count": 3,
   "metadata": {},
   "outputs": [
    {
     "name": "stdout",
     "output_type": "stream",
     "text": [
      "Decision Tree Classifier Accuracy:  0.8888888888888888\n",
      "Decision Tree Regressor Accuracy:  0.9777777777777777\n",
      "['alcohol', 'malic_acid', 'ash', 'alcalinity_of_ash', 'magnesium', 'total_phenols', 'flavanoids', 'nonflavanoid_phenols', 'proanthocyanins', 'color_intensity', 'hue', 'od280/od315_of_diluted_wines', 'proline']\n",
      "clf Feature importance:  [0.04440705 0.0184594  0.         0.         0.04405085 0.08158611\n",
      " 0.04296585 0.         0.         0.33702516 0.         0.04285558\n",
      " 0.38865   ]\n",
      "rlf Feature importance:  [0.         0.00299987 0.         0.         0.         0.\n",
      " 0.61367513 0.         0.         0.1214791  0.         0.\n",
      " 0.26184589]\n"
     ]
    }
   ],
   "source": [
    "wine = datasets.load_wine()\n",
    "\n",
    "# 切分訓練集/測試集\n",
    "x_train, x_test, y_train, y_test = train_test_split(wine.data, wine.target, test_size=0.25, random_state=4)\n",
    "\n",
    "# 建立模型\n",
    "clf = DecisionTreeClassifier()\n",
    "rlf = DecisionTreeRegressor()\n",
    "\n",
    "# 訓練模型\n",
    "clf.fit(x_train, y_train)\n",
    "rlf.fit(x_train, y_train)\n",
    "\n",
    "# 預測測試集\n",
    "y_pred_c  = clf.predict(x_test)\n",
    "y_pred_r  = rlf.predict(x_test)\n",
    "acc_c = metrics.accuracy_score(y_test, y_pred_c)\n",
    "acc_r = metrics.accuracy_score(y_test, y_pred_r)\n",
    "print(\"Decision Tree Classifier Accuracy: \", acc_c)\n",
    "print(\"Decision Tree Regressor Accuracy: \", acc_r)\n",
    "print(wine.feature_names)\n",
    "print(\"clf Feature importance: \", clf.feature_importances_)\n",
    "print(\"rlf Feature importance: \", rlf.feature_importances_)"
   ]
  }
 ],
 "metadata": {
  "kernelspec": {
   "display_name": "Python 3",
   "language": "python",
   "name": "python3"
  },
  "language_info": {
   "codemirror_mode": {
    "name": "ipython",
    "version": 3
   },
   "file_extension": ".py",
   "mimetype": "text/x-python",
   "name": "python",
   "nbconvert_exporter": "python",
   "pygments_lexer": "ipython3",
   "version": "3.7.1"
  }
 },
 "nbformat": 4,
 "nbformat_minor": 2
}

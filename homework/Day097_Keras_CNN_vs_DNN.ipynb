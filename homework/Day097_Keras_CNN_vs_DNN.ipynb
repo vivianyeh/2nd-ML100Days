{
 "cells": [
  {
   "cell_type": "code",
   "execution_count": 1,
   "metadata": {},
   "outputs": [
    {
     "name": "stderr",
     "output_type": "stream",
     "text": [
      "Using TensorFlow backend.\n"
     ]
    }
   ],
   "source": [
    "import keras\n",
    "from keras.datasets import cifar10\n",
    "from keras.preprocessing.image import ImageDataGenerator\n",
    "from keras.models import Sequential\n",
    "from keras.layers import Dense, Dropout, Activation, Flatten\n",
    "from keras.layers import Conv2D, MaxPooling2D\n",
    "from keras.optimizers import RMSprop, Adam\n",
    "import os\n",
    "\n",
    "import tensorflow as tf\n",
    "tf.logging.set_verbosity(tf.logging.ERROR)"
   ]
  },
  {
   "cell_type": "code",
   "execution_count": 2,
   "metadata": {},
   "outputs": [
    {
     "name": "stdout",
     "output_type": "stream",
     "text": [
      "x_train shape: (50000, 32, 32, 3)\n",
      "50000 train samples\n",
      "10000 test samples\n"
     ]
    }
   ],
   "source": [
    "batch_size = 128 # batch 的大小，如果出現 OOM error，請降低這個值\n",
    "num_classes = 10 # 類別的數量，Cifar 10 共有 10 個類別\n",
    "epochs = 10 # 訓練的 epochs 數量\n",
    "\n",
    "# 讀取資料並檢視\n",
    "(x_train, y_train), (x_test, y_test) = cifar10.load_data()\n",
    "print('x_train shape:', x_train.shape)\n",
    "print(x_train.shape[0], 'train samples')\n",
    "print(x_test.shape[0], 'test samples')\n",
    "\n",
    "# 對 label 進行 one-hot encoding (y_trian 原本是純數字)\n",
    "y_train = keras.utils.to_categorical(y_train, num_classes)\n",
    "y_test = keras.utils.to_categorical(y_test, num_classes)"
   ]
  },
  {
   "cell_type": "markdown",
   "metadata": {},
   "source": [
    "## 首先我們使用一般的 DNN (MLP) 來訓練\n",
    "由於 DNN 只能輸入一維的資料，我們要先將影像進行攤平，若 (50000, 32, 32, 3) 的影像，攤平後會變成 (50000, 32*32*3) = (50000, 3072)"
   ]
  },
  {
   "cell_type": "code",
   "execution_count": 3,
   "metadata": {},
   "outputs": [
    {
     "name": "stdout",
     "output_type": "stream",
     "text": [
      "50000 train samples\n",
      "10000 test samples\n"
     ]
    }
   ],
   "source": [
    "# 將資料攤平成一維資料\n",
    "x_train = x_train.reshape(50000, 3072) \n",
    "x_test = x_test.reshape(10000, 3072)\n",
    "\n",
    "# 將資料變為 float32 並標準化\n",
    "x_train = x_train.astype('float32')\n",
    "x_test = x_test.astype('float32')\n",
    "x_train /= 255\n",
    "x_test /= 255\n",
    "print(x_train.shape[0], 'train samples')\n",
    "print(x_test.shape[0], 'test samples')"
   ]
  },
  {
   "cell_type": "code",
   "execution_count": 4,
   "metadata": {},
   "outputs": [
    {
     "name": "stdout",
     "output_type": "stream",
     "text": [
      "_________________________________________________________________\n",
      "Layer (type)                 Output Shape              Param #   \n",
      "=================================================================\n",
      "dense_1 (Dense)              (None, 512)               1573376   \n",
      "_________________________________________________________________\n",
      "dropout_1 (Dropout)          (None, 512)               0         \n",
      "_________________________________________________________________\n",
      "dense_2 (Dense)              (None, 512)               262656    \n",
      "_________________________________________________________________\n",
      "dropout_2 (Dropout)          (None, 512)               0         \n",
      "_________________________________________________________________\n",
      "dense_3 (Dense)              (None, 10)                5130      \n",
      "=================================================================\n",
      "Total params: 1,841,162\n",
      "Trainable params: 1,841,162\n",
      "Non-trainable params: 0\n",
      "_________________________________________________________________\n",
      "Train on 50000 samples, validate on 10000 samples\n",
      "Epoch 1/10\n",
      "50000/50000 [==============================] - 4s 88us/step - loss: 2.2861 - acc: 0.2490 - val_loss: 1.8451 - val_acc: 0.3201\n",
      "Epoch 2/10\n",
      "50000/50000 [==============================] - 3s 59us/step - loss: 1.8469 - acc: 0.3313 - val_loss: 1.7435 - val_acc: 0.3717\n",
      "Epoch 3/10\n",
      "50000/50000 [==============================] - 3s 59us/step - loss: 1.7740 - acc: 0.3645 - val_loss: 1.6704 - val_acc: 0.4104\n",
      "Epoch 4/10\n",
      "50000/50000 [==============================] - 3s 59us/step - loss: 1.7199 - acc: 0.3844 - val_loss: 1.6287 - val_acc: 0.4264\n",
      "Epoch 5/10\n",
      "50000/50000 [==============================] - 3s 62us/step - loss: 1.6859 - acc: 0.3964 - val_loss: 1.6586 - val_acc: 0.4152\n",
      "Epoch 6/10\n",
      "50000/50000 [==============================] - 3s 67us/step - loss: 1.6542 - acc: 0.4076 - val_loss: 1.6237 - val_acc: 0.4288\n",
      "Epoch 7/10\n",
      "50000/50000 [==============================] - 3s 67us/step - loss: 1.6290 - acc: 0.4180 - val_loss: 1.5926 - val_acc: 0.4418\n",
      "Epoch 8/10\n",
      "50000/50000 [==============================] - 3s 67us/step - loss: 1.6163 - acc: 0.4224 - val_loss: 1.5338 - val_acc: 0.4570\n",
      "Epoch 9/10\n",
      "50000/50000 [==============================] - 3s 67us/step - loss: 1.6012 - acc: 0.4277 - val_loss: 1.6019 - val_acc: 0.4090\n",
      "Epoch 10/10\n",
      "50000/50000 [==============================] - 3s 68us/step - loss: 1.5881 - acc: 0.4341 - val_loss: 1.5514 - val_acc: 0.4520\n",
      "Test loss: 1.5513780014038085\n",
      "Test accuracy: 0.452\n"
     ]
    }
   ],
   "source": [
    "model = Sequential()\n",
    "model.add(Dense(512, activation='relu', input_shape=(3072,)))\n",
    "model.add(Dropout(0.2))\n",
    "model.add(Dense(512, activation='relu'))\n",
    "model.add(Dropout(0.2))\n",
    "model.add(Dense(num_classes, activation='softmax'))\n",
    "\n",
    "model.summary()\n",
    "\n",
    "model.compile(loss='categorical_crossentropy',\n",
    "              optimizer=RMSprop(),\n",
    "              metrics=['accuracy'])\n",
    "\n",
    "history = model.fit(x_train, y_train,\n",
    "                    batch_size=batch_size,\n",
    "                    epochs=epochs,\n",
    "                    verbose=1,\n",
    "                    validation_data=(x_test, y_test))\n",
    "score = model.evaluate(x_test, y_test, verbose=0)\n",
    "print('Test loss:', score[0])\n",
    "print('Test accuracy:', score[1])"
   ]
  },
  {
   "cell_type": "markdown",
   "metadata": {},
   "source": [
    "## 接下來我們使用 CNN 來訓練神經網路\n",
    "CNN 的原理非常適合處理影像類的資料，就讓我們來看看，同樣的訓練條件，CNN 是否顯著優於 DNN 呢?"
   ]
  },
  {
   "cell_type": "code",
   "execution_count": 5,
   "metadata": {},
   "outputs": [
    {
     "name": "stdout",
     "output_type": "stream",
     "text": [
      "x_train shape: (50000, 32, 32, 3)\n",
      "50000 train samples\n",
      "10000 test samples\n"
     ]
    }
   ],
   "source": [
    "(x_train, y_train), (x_test, y_test) = cifar10.load_data()\n",
    "print('x_train shape:', x_train.shape)\n",
    "print(x_train.shape[0], 'train samples')\n",
    "print(x_test.shape[0], 'test samples')\n",
    "x_train = x_train.astype('float32')\n",
    "x_test = x_test.astype('float32')\n",
    "x_train /= 255\n",
    "x_test /= 255\n",
    "\n",
    "# Convert class vectors to binary class matrices.\n",
    "y_train = keras.utils.to_categorical(y_train, num_classes)\n",
    "y_test = keras.utils.to_categorical(y_test, num_classes)"
   ]
  },
  {
   "cell_type": "code",
   "execution_count": 6,
   "metadata": {},
   "outputs": [
    {
     "name": "stdout",
     "output_type": "stream",
     "text": [
      "_________________________________________________________________\n",
      "Layer (type)                 Output Shape              Param #   \n",
      "=================================================================\n",
      "conv2d_1 (Conv2D)            (None, 32, 32, 32)        896       \n",
      "_________________________________________________________________\n",
      "activation_1 (Activation)    (None, 32, 32, 32)        0         \n",
      "_________________________________________________________________\n",
      "conv2d_2 (Conv2D)            (None, 30, 30, 32)        9248      \n",
      "_________________________________________________________________\n",
      "activation_2 (Activation)    (None, 30, 30, 32)        0         \n",
      "_________________________________________________________________\n",
      "max_pooling2d_1 (MaxPooling2 (None, 15, 15, 32)        0         \n",
      "_________________________________________________________________\n",
      "dropout_3 (Dropout)          (None, 15, 15, 32)        0         \n",
      "_________________________________________________________________\n",
      "conv2d_3 (Conv2D)            (None, 15, 15, 64)        18496     \n",
      "_________________________________________________________________\n",
      "activation_3 (Activation)    (None, 15, 15, 64)        0         \n",
      "_________________________________________________________________\n",
      "conv2d_4 (Conv2D)            (None, 13, 13, 64)        36928     \n",
      "_________________________________________________________________\n",
      "activation_4 (Activation)    (None, 13, 13, 64)        0         \n",
      "_________________________________________________________________\n",
      "max_pooling2d_2 (MaxPooling2 (None, 6, 6, 64)          0         \n",
      "_________________________________________________________________\n",
      "dropout_4 (Dropout)          (None, 6, 6, 64)          0         \n",
      "_________________________________________________________________\n",
      "flatten_1 (Flatten)          (None, 2304)              0         \n",
      "_________________________________________________________________\n",
      "dense_4 (Dense)              (None, 512)               1180160   \n",
      "_________________________________________________________________\n",
      "activation_5 (Activation)    (None, 512)               0         \n",
      "_________________________________________________________________\n",
      "dropout_5 (Dropout)          (None, 512)               0         \n",
      "_________________________________________________________________\n",
      "dense_5 (Dense)              (None, 10)                5130      \n",
      "_________________________________________________________________\n",
      "activation_6 (Activation)    (None, 10)                0         \n",
      "=================================================================\n",
      "Total params: 1,250,858\n",
      "Trainable params: 1,250,858\n",
      "Non-trainable params: 0\n",
      "_________________________________________________________________\n",
      "Train on 50000 samples, validate on 10000 samples\n",
      "Epoch 1/10\n",
      "50000/50000 [==============================] - 14s 271us/step - loss: 1.7481 - acc: 0.3677 - val_loss: 1.2928 - val_acc: 0.5390\n",
      "Epoch 2/10\n",
      "50000/50000 [==============================] - 12s 234us/step - loss: 1.2914 - acc: 0.5431 - val_loss: 1.1010 - val_acc: 0.6140\n",
      "Epoch 3/10\n",
      "50000/50000 [==============================] - 12s 233us/step - loss: 1.0884 - acc: 0.6199 - val_loss: 0.9903 - val_acc: 0.6497\n",
      "Epoch 4/10\n",
      "50000/50000 [==============================] - 12s 232us/step - loss: 0.9586 - acc: 0.6643 - val_loss: 0.8689 - val_acc: 0.7002\n",
      "Epoch 5/10\n",
      "50000/50000 [==============================] - 12s 235us/step - loss: 0.8685 - acc: 0.6963 - val_loss: 0.9905 - val_acc: 0.6664\n",
      "Epoch 6/10\n",
      "50000/50000 [==============================] - 12s 232us/step - loss: 0.8021 - acc: 0.7195 - val_loss: 0.7237 - val_acc: 0.7498\n",
      "Epoch 7/10\n",
      "50000/50000 [==============================] - 12s 232us/step - loss: 0.7541 - acc: 0.7381 - val_loss: 0.7390 - val_acc: 0.7433\n",
      "Epoch 8/10\n",
      "50000/50000 [==============================] - 12s 234us/step - loss: 0.7122 - acc: 0.7516 - val_loss: 0.7105 - val_acc: 0.7577\n",
      "Epoch 9/10\n",
      "50000/50000 [==============================] - 12s 241us/step - loss: 0.6772 - acc: 0.7669 - val_loss: 0.7043 - val_acc: 0.7601\n",
      "Epoch 10/10\n",
      "50000/50000 [==============================] - 12s 235us/step - loss: 0.6521 - acc: 0.7738 - val_loss: 0.7244 - val_acc: 0.7530\n",
      "Test loss: 0.724391584777832\n",
      "Test accuracy: 0.753\n"
     ]
    }
   ],
   "source": [
    "model = Sequential()\n",
    "model.add(Conv2D(32, (3, 3), padding='same',\n",
    "                 input_shape=x_train.shape[1:]))\n",
    "model.add(Activation('relu'))\n",
    "model.add(Conv2D(32, (3, 3)))\n",
    "model.add(Activation('relu'))\n",
    "model.add(MaxPooling2D(pool_size=(2, 2)))\n",
    "model.add(Dropout(0.25))\n",
    "\n",
    "model.add(Conv2D(64, (3, 3), padding='same'))\n",
    "model.add(Activation('relu'))\n",
    "model.add(Conv2D(64, (3, 3)))\n",
    "model.add(Activation('relu'))\n",
    "model.add(MaxPooling2D(pool_size=(2, 2)))\n",
    "model.add(Dropout(0.25))\n",
    "\n",
    "model.add(Flatten())\n",
    "model.add(Dense(512))\n",
    "model.add(Activation('relu'))\n",
    "model.add(Dropout(0.5))\n",
    "model.add(Dense(num_classes))\n",
    "model.add(Activation('softmax'))\n",
    "model.summary()\n",
    "\n",
    "model.compile(loss='categorical_crossentropy',\n",
    "              optimizer=RMSprop(),\n",
    "              metrics=['accuracy'])\n",
    "\n",
    "history = model.fit(x_train, y_train,\n",
    "                    batch_size=batch_size,\n",
    "                    epochs=epochs,\n",
    "                    verbose=1,\n",
    "                    validation_data=(x_test, y_test))\n",
    "score = model.evaluate(x_test, y_test, verbose=0)\n",
    "print('Test loss:', score[0])\n",
    "print('Test accuracy:', score[1])"
   ]
  },
  {
   "cell_type": "markdown",
   "metadata": {},
   "source": [
    "## 同樣運算 10 個 epochs，但 CNN 在 test data 的準確率顯著優於 DNN!"
   ]
  },
  {
   "cell_type": "markdown",
   "metadata": {},
   "source": [
    "## 作業\n",
    "1. 請試著調整各個超參數，並說明那些超參數對於結果有明顯的影響? epochs\n",
    "2. CNN 與 DNN 哪個模型的參數數量比較多? 造成參數的數量不同的原因在哪? DNN, DNN 為全連接，參數量相對較大"
   ]
  },
  {
   "cell_type": "code",
   "execution_count": 7,
   "metadata": {},
   "outputs": [
    {
     "name": "stdout",
     "output_type": "stream",
     "text": [
      "Train on 50000 samples, validate on 10000 samples\n",
      "Epoch 1/25\n",
      "50000/50000 [==============================] - 12s 234us/step - loss: 0.6421 - acc: 0.7774 - val_loss: 0.7043 - val_acc: 0.7693\n",
      "Epoch 2/25\n",
      "50000/50000 [==============================] - 11s 224us/step - loss: 0.6172 - acc: 0.7886 - val_loss: 0.6406 - val_acc: 0.7835\n",
      "Epoch 3/25\n",
      "50000/50000 [==============================] - 12s 232us/step - loss: 0.6031 - acc: 0.7919 - val_loss: 0.6324 - val_acc: 0.7887\n",
      "Epoch 4/25\n",
      "50000/50000 [==============================] - 12s 234us/step - loss: 0.5914 - acc: 0.7963 - val_loss: 0.7323 - val_acc: 0.7618\n",
      "Epoch 5/25\n",
      "50000/50000 [==============================] - 12s 230us/step - loss: 0.5806 - acc: 0.8011 - val_loss: 0.6497 - val_acc: 0.7850\n",
      "Epoch 6/25\n",
      "50000/50000 [==============================] - 12s 231us/step - loss: 0.5781 - acc: 0.8029 - val_loss: 0.7036 - val_acc: 0.7893\n",
      "Epoch 7/25\n",
      "50000/50000 [==============================] - 12s 232us/step - loss: 0.5698 - acc: 0.8057 - val_loss: 0.6763 - val_acc: 0.7823\n",
      "Epoch 8/25\n",
      "50000/50000 [==============================] - 12s 239us/step - loss: 0.5740 - acc: 0.8048 - val_loss: 0.6894 - val_acc: 0.7760\n",
      "Epoch 9/25\n",
      "50000/50000 [==============================] - 12s 232us/step - loss: 0.5652 - acc: 0.8090 - val_loss: 0.7111 - val_acc: 0.7883\n",
      "Epoch 10/25\n",
      "50000/50000 [==============================] - 11s 227us/step - loss: 0.5710 - acc: 0.8065 - val_loss: 0.6909 - val_acc: 0.7794\n",
      "Epoch 11/25\n",
      "50000/50000 [==============================] - 11s 227us/step - loss: 0.5706 - acc: 0.8094 - val_loss: 0.6686 - val_acc: 0.7827\n",
      "Epoch 12/25\n",
      "50000/50000 [==============================] - 12s 235us/step - loss: 0.5683 - acc: 0.8094 - val_loss: 0.6783 - val_acc: 0.7876\n",
      "Epoch 13/25\n",
      "50000/50000 [==============================] - 12s 236us/step - loss: 0.5753 - acc: 0.8072 - val_loss: 0.6931 - val_acc: 0.7723\n",
      "Epoch 14/25\n",
      "50000/50000 [==============================] - 12s 232us/step - loss: 0.5822 - acc: 0.8078 - val_loss: 0.6199 - val_acc: 0.8001\n",
      "Epoch 15/25\n",
      "50000/50000 [==============================] - 12s 231us/step - loss: 0.5788 - acc: 0.8085 - val_loss: 0.6954 - val_acc: 0.7961\n",
      "Epoch 16/25\n",
      "50000/50000 [==============================] - 12s 240us/step - loss: 0.5836 - acc: 0.8082 - val_loss: 0.7359 - val_acc: 0.7863\n",
      "Epoch 17/25\n",
      "50000/50000 [==============================] - 11s 229us/step - loss: 0.5926 - acc: 0.8054 - val_loss: 0.7112 - val_acc: 0.7840\n",
      "Epoch 18/25\n",
      "50000/50000 [==============================] - 12s 234us/step - loss: 0.5949 - acc: 0.8043 - val_loss: 0.8234 - val_acc: 0.7913\n",
      "Epoch 19/25\n",
      "50000/50000 [==============================] - 12s 235us/step - loss: 0.5953 - acc: 0.8056 - val_loss: 0.6566 - val_acc: 0.7803\n",
      "Epoch 20/25\n",
      "50000/50000 [==============================] - 12s 233us/step - loss: 0.5975 - acc: 0.8047 - val_loss: 0.7151 - val_acc: 0.7748\n",
      "Epoch 21/25\n",
      "50000/50000 [==============================] - 12s 230us/step - loss: 0.5968 - acc: 0.8048 - val_loss: 0.9619 - val_acc: 0.7656\n",
      "Epoch 22/25\n",
      "50000/50000 [==============================] - 12s 231us/step - loss: 0.6090 - acc: 0.8030 - val_loss: 0.6797 - val_acc: 0.7808\n",
      "Epoch 23/25\n",
      "50000/50000 [==============================] - 12s 234us/step - loss: 0.6032 - acc: 0.8045 - val_loss: 0.7906 - val_acc: 0.7491\n",
      "Epoch 24/25\n",
      "50000/50000 [==============================] - 12s 233us/step - loss: 0.6213 - acc: 0.7992 - val_loss: 0.7612 - val_acc: 0.7750\n",
      "Epoch 25/25\n",
      "50000/50000 [==============================] - 12s 234us/step - loss: 0.6138 - acc: 0.8012 - val_loss: 0.7097 - val_acc: 0.7729\n",
      "Test loss: 0.709697264623642\n",
      "Test accuracy: 0.7729\n"
     ]
    }
   ],
   "source": [
    "epochs = 25\n",
    "model.compile(loss='categorical_crossentropy',\n",
    "              optimizer=RMSprop(),\n",
    "              metrics=['accuracy'])\n",
    "\n",
    "history = model.fit(x_train, y_train,\n",
    "                    batch_size=batch_size,\n",
    "                    epochs=epochs,\n",
    "                    verbose=1,\n",
    "                    validation_data=(x_test, y_test))\n",
    "score = model.evaluate(x_test, y_test, verbose=0)\n",
    "print('Test loss:', score[0])\n",
    "print('Test accuracy:', score[1])"
   ]
  }
 ],
 "metadata": {
  "kernelspec": {
   "display_name": "Python 3",
   "language": "python",
   "name": "python3"
  },
  "language_info": {
   "codemirror_mode": {
    "name": "ipython",
    "version": 3
   },
   "file_extension": ".py",
   "mimetype": "text/x-python",
   "name": "python",
   "nbconvert_exporter": "python",
   "pygments_lexer": "ipython3",
   "version": "3.7.3"
  }
 },
 "nbformat": 4,
 "nbformat_minor": 2
}

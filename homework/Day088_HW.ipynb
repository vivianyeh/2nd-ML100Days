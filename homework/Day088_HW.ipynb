{
 "cells": [
  {
   "cell_type": "markdown",
   "metadata": {},
   "source": [
    "## Work\n",
    "1. 請嘗試寫一個 callback 用來記錄各類別在訓練過程中，對驗證集的 True Positive 與 True Negative"
   ]
  },
  {
   "cell_type": "code",
   "execution_count": 1,
   "metadata": {},
   "outputs": [
    {
     "name": "stderr",
     "output_type": "stream",
     "text": [
      "Using TensorFlow backend.\n"
     ]
    }
   ],
   "source": [
    "import os\n",
    "import keras\n",
    "import tensorflow as tf\n",
    "tf.logging.set_verbosity(tf.logging.ERROR)\n",
    "\n",
    "# Disable GPU\n",
    "os.environ[\"CUDA_VISIBLE_DEVICES\"] = \"\""
   ]
  },
  {
   "cell_type": "code",
   "execution_count": 2,
   "metadata": {},
   "outputs": [],
   "source": [
    "train, test = keras.datasets.cifar10.load_data()"
   ]
  },
  {
   "cell_type": "code",
   "execution_count": 3,
   "metadata": {},
   "outputs": [],
   "source": [
    "## 資料前處理\n",
    "def preproc_x(x, flatten=True):\n",
    "    x = x / 255.\n",
    "    if flatten:\n",
    "        x = x.reshape((len(x), -1))\n",
    "    return x\n",
    "\n",
    "def preproc_y(y, num_classes=10):\n",
    "    if y.shape[-1] == 1:\n",
    "        y = keras.utils.to_categorical(y, num_classes)\n",
    "    return y    "
   ]
  },
  {
   "cell_type": "code",
   "execution_count": 4,
   "metadata": {},
   "outputs": [],
   "source": [
    "x_train, y_train = train\n",
    "x_test, y_test = test\n",
    "\n",
    "# Preproc the inputs\n",
    "x_train = preproc_x(x_train)\n",
    "x_test = preproc_x(x_test)\n",
    "\n",
    "# Preproc the outputs\n",
    "y_train = preproc_y(y_train)\n",
    "y_test = preproc_y(y_test)"
   ]
  },
  {
   "cell_type": "code",
   "execution_count": 5,
   "metadata": {},
   "outputs": [],
   "source": [
    "from keras.layers import BatchNormalization\n",
    "def build_mlp(input_shape, output_units=10, num_neurons=[256, 256, 256]):\n",
    "    input_layer = keras.layers.Input(input_shape)\n",
    "    \n",
    "    for i, n_units in enumerate(num_neurons):\n",
    "        if i == 0:\n",
    "            x = keras.layers.Dense(units=n_units, \n",
    "                                   activation=\"relu\", \n",
    "                                   name=\"hidden_layer\"+str(i+1))(input_layer)\n",
    "            x = BatchNormalization()(x)\n",
    "        else:\n",
    "            x = keras.layers.Dense(units=n_units, \n",
    "                                   activation=\"relu\", \n",
    "                                   name=\"hidden_layer\"+str(i+1))(x)\n",
    "            x = BatchNormalization()(x)\n",
    "    \n",
    "    out = keras.layers.Dense(units=output_units, activation=\"softmax\", name=\"output\")(x)\n",
    "    \n",
    "    model = keras.models.Model(inputs=[input_layer], outputs=[out])\n",
    "    return model"
   ]
  },
  {
   "cell_type": "code",
   "execution_count": 6,
   "metadata": {},
   "outputs": [],
   "source": [
    "## 超參數設定\n",
    "LEARNING_RATE = 1e-3\n",
    "EPOCHS = 25\n",
    "BATCH_SIZE = 1024\n",
    "MOMENTUM = 0.95"
   ]
  },
  {
   "cell_type": "code",
   "execution_count": 7,
   "metadata": {},
   "outputs": [],
   "source": [
    "# 載入 Callbacks\n",
    "from keras.callbacks import Callback\n",
    "from sklearn.metrics import confusion_matrix\n",
    "# Record_fp_tp\n",
    "class Record_tp_tn(Callback):\n",
    "    def on_train_begin(self, epoch, logs = {}):\n",
    "        logs = logs or {}\n",
    "        record_items = [\"val_auc\", \"val_f1sc\", \"val_fp\", \"val_fn\", \"val_tp\", \"val_tn\"]\n",
    "        for i in record_items:\n",
    "            if i not in self.params['metrics']:\n",
    "                self.params['metrics'].append(i)\n",
    "    \n",
    "    def on_epoch_end(self, epoch, logs = {}, thres=0.5):\n",
    "        logs = logs or {}\n",
    "        y_true = self.validation_data[1].argmax(axis = 1)\n",
    "        y_pred = self.model.predict(self.validation_data[0])\n",
    "        y_pred = (y_pred[:, 1] >= thres) * 1\n",
    "        \n",
    "        tn, fp, fn, tp = confusion_matrix(y_true, y_pred, labels=[0,1]).ravel()\n",
    "        \n",
    "        logs['tp'] = tp\n",
    "        logs['tn'] = tn\n",
    "        \n",
    "rec_tptn = Record_tp_tn()"
   ]
  },
  {
   "cell_type": "code",
   "execution_count": 8,
   "metadata": {
    "scrolled": true
   },
   "outputs": [
    {
     "name": "stdout",
     "output_type": "stream",
     "text": [
      "_________________________________________________________________\n",
      "Layer (type)                 Output Shape              Param #   \n",
      "=================================================================\n",
      "input_1 (InputLayer)         (None, 3072)              0         \n",
      "_________________________________________________________________\n",
      "hidden_layer1 (Dense)        (None, 256)               786688    \n",
      "_________________________________________________________________\n",
      "batch_normalization_1 (Batch (None, 256)               1024      \n",
      "_________________________________________________________________\n",
      "hidden_layer2 (Dense)        (None, 256)               65792     \n",
      "_________________________________________________________________\n",
      "batch_normalization_2 (Batch (None, 256)               1024      \n",
      "_________________________________________________________________\n",
      "hidden_layer3 (Dense)        (None, 256)               65792     \n",
      "_________________________________________________________________\n",
      "batch_normalization_3 (Batch (None, 256)               1024      \n",
      "_________________________________________________________________\n",
      "output (Dense)               (None, 10)                2570      \n",
      "=================================================================\n",
      "Total params: 923,914\n",
      "Trainable params: 922,378\n",
      "Non-trainable params: 1,536\n",
      "_________________________________________________________________\n",
      "Train on 50000 samples, validate on 10000 samples\n",
      "Epoch 1/25\n",
      "50000/50000 [==============================] - 4s 73us/step - loss: 2.2443 - acc: 0.2649 - val_loss: 2.1627 - val_acc: 0.2904\n",
      "Epoch 2/25\n",
      "50000/50000 [==============================] - 2s 38us/step - loss: 1.7764 - acc: 0.3810 - val_loss: 1.8631 - val_acc: 0.3722\n",
      "Epoch 3/25\n",
      "50000/50000 [==============================] - 2s 38us/step - loss: 1.6434 - acc: 0.4244 - val_loss: 1.7244 - val_acc: 0.4055\n",
      "Epoch 4/25\n",
      "50000/50000 [==============================] - 2s 40us/step - loss: 1.5698 - acc: 0.4509 - val_loss: 1.6868 - val_acc: 0.4109\n",
      "Epoch 5/25\n",
      "50000/50000 [==============================] - 2s 42us/step - loss: 1.5142 - acc: 0.4680 - val_loss: 1.6106 - val_acc: 0.4271\n",
      "Epoch 6/25\n",
      "50000/50000 [==============================] - 2s 41us/step - loss: 1.4689 - acc: 0.4849 - val_loss: 1.5863 - val_acc: 0.4413\n",
      "Epoch 7/25\n",
      "50000/50000 [==============================] - 2s 41us/step - loss: 1.4302 - acc: 0.5010 - val_loss: 1.5617 - val_acc: 0.4443\n",
      "Epoch 8/25\n",
      "50000/50000 [==============================] - 2s 41us/step - loss: 1.3979 - acc: 0.5117 - val_loss: 1.5496 - val_acc: 0.4544\n",
      "Epoch 9/25\n",
      "50000/50000 [==============================] - 2s 42us/step - loss: 1.3663 - acc: 0.5230 - val_loss: 1.5256 - val_acc: 0.4609\n",
      "Epoch 10/25\n",
      "50000/50000 [==============================] - 2s 42us/step - loss: 1.3398 - acc: 0.5319 - val_loss: 1.5204 - val_acc: 0.4648\n",
      "Epoch 11/25\n",
      "50000/50000 [==============================] - 2s 43us/step - loss: 1.3152 - acc: 0.5409 - val_loss: 1.5042 - val_acc: 0.4693\n",
      "Epoch 12/25\n",
      "50000/50000 [==============================] - 2s 42us/step - loss: 1.2902 - acc: 0.5495 - val_loss: 1.5103 - val_acc: 0.4633\n",
      "Epoch 13/25\n",
      "50000/50000 [==============================] - 2s 42us/step - loss: 1.2668 - acc: 0.5599 - val_loss: 1.4935 - val_acc: 0.4717\n",
      "Epoch 14/25\n",
      "50000/50000 [==============================] - 2s 42us/step - loss: 1.2449 - acc: 0.5671 - val_loss: 1.4856 - val_acc: 0.4776\n",
      "Epoch 15/25\n",
      "50000/50000 [==============================] - 2s 42us/step - loss: 1.2241 - acc: 0.5754 - val_loss: 1.4864 - val_acc: 0.4782\n",
      "Epoch 16/25\n",
      "50000/50000 [==============================] - 2s 42us/step - loss: 1.2063 - acc: 0.5814 - val_loss: 1.4772 - val_acc: 0.4807\n",
      "Epoch 17/25\n",
      "50000/50000 [==============================] - 2s 44us/step - loss: 1.1858 - acc: 0.5886 - val_loss: 1.4661 - val_acc: 0.4876\n",
      "Epoch 18/25\n",
      "50000/50000 [==============================] - 2s 44us/step - loss: 1.1663 - acc: 0.5955 - val_loss: 1.4765 - val_acc: 0.4857\n",
      "Epoch 19/25\n",
      "50000/50000 [==============================] - 2s 42us/step - loss: 1.1473 - acc: 0.6022 - val_loss: 1.4781 - val_acc: 0.4863\n",
      "Epoch 20/25\n",
      "50000/50000 [==============================] - 2s 41us/step - loss: 1.1309 - acc: 0.6100 - val_loss: 1.4622 - val_acc: 0.4903\n",
      "Epoch 21/25\n",
      "50000/50000 [==============================] - 2s 41us/step - loss: 1.1122 - acc: 0.6154 - val_loss: 1.4584 - val_acc: 0.4901\n",
      "Epoch 22/25\n",
      "50000/50000 [==============================] - 2s 42us/step - loss: 1.0946 - acc: 0.6249 - val_loss: 1.4494 - val_acc: 0.4903\n",
      "Epoch 23/25\n",
      "50000/50000 [==============================] - 2s 41us/step - loss: 1.0774 - acc: 0.6291 - val_loss: 1.4542 - val_acc: 0.4941\n",
      "Epoch 24/25\n",
      "50000/50000 [==============================] - 2s 41us/step - loss: 1.0617 - acc: 0.6361 - val_loss: 1.4661 - val_acc: 0.4912\n",
      "Epoch 25/25\n",
      "50000/50000 [==============================] - 2s 42us/step - loss: 1.0442 - acc: 0.6429 - val_loss: 1.4493 - val_acc: 0.4998\n"
     ]
    }
   ],
   "source": [
    "model = build_mlp(input_shape=x_train.shape[1:])\n",
    "model.summary()\n",
    "optimizer = keras.optimizers.SGD(lr=LEARNING_RATE, nesterov=True, momentum=MOMENTUM)\n",
    "model.compile(loss=\"categorical_crossentropy\", metrics=[\"accuracy\"], optimizer=optimizer)\n",
    "\n",
    "\"\"\"Code Here\n",
    "將 callbacks 放入模型訓練流程中\n",
    "\"\"\"\n",
    "model.fit(x_train, y_train, \n",
    "          epochs=EPOCHS, \n",
    "          batch_size=BATCH_SIZE, \n",
    "          validation_data=(x_test, y_test), \n",
    "          shuffle=True,\n",
    "          callbacks=[rec_tptn]\n",
    "         )\n",
    "\n",
    "\n",
    "# Collect results\n",
    "train_loss = model.history.history[\"loss\"]\n",
    "valid_loss = model.history.history[\"val_loss\"]\n",
    "train_acc = model.history.history[\"acc\"]\n",
    "valid_acc = model.history.history[\"val_acc\"]\n",
    "\n",
    "\"\"\"Code Here\n",
    "將 tp/tn 從訓練完的模型中取出\n",
    "\"\"\"\n",
    "valid_tp = model.history.history['tp']\n",
    "valid_tn = model.history.history['tn']"
   ]
  },
  {
   "cell_type": "code",
   "execution_count": 9,
   "metadata": {},
   "outputs": [
    {
     "data": {
      "image/png": "[encoded data removed]",
      "text/plain": [
       "<Figure size 432x288 with 1 Axes>"
      ]
     },
     "metadata": {
      "needs_background": "light"
     },
     "output_type": "display_data"
    },
    {
     "data": {
      "image/png": "[encoded data removed]",
      "text/plain": [
       "<Figure size 432x288 with 1 Axes>"
      ]
     },
     "metadata": {
      "needs_background": "light"
     },
     "output_type": "display_data"
    },
    {
     "data": {
      "image/png": "[encoded data removed]",
      "text/plain": [
       "<Figure size 432x288 with 1 Axes>"
      ]
     },
     "metadata": {
      "needs_background": "light"
     },
     "output_type": "display_data"
    }
   ],
   "source": [
    "import matplotlib.pyplot as plt\n",
    "%matplotlib inline\n",
    "\n",
    "plt.plot(range(len(train_loss)), train_loss, label=\"train loss\")\n",
    "plt.plot(range(len(valid_loss)), valid_loss, label=\"valid loss\")\n",
    "plt.legend()\n",
    "plt.title(\"Loss\")\n",
    "plt.show()\n",
    "\n",
    "plt.plot(range(len(train_acc)), train_acc, label=\"train accuracy\")\n",
    "plt.plot(range(len(valid_acc)), valid_acc, label=\"valid accuracy\")\n",
    "plt.legend()\n",
    "plt.title(\"Accuracy\")\n",
    "plt.show()\n",
    "\n",
    "plt.plot(range(len(valid_tp)), valid_tp, label=\"valid tp\", color=\"navy\")\n",
    "plt.plot(range(len(valid_tn)), valid_tn, label=\"valid tn\", color=\"red\")\n",
    "plt.legend()\n",
    "plt.title(\"True positives and True Negatives\")\n",
    "plt.show()"
   ]
  }
 ],
 "metadata": {
  "kernelspec": {
   "display_name": "Python 3",
   "language": "python",
   "name": "python3"
  },
  "language_info": {
   "codemirror_mode": {
    "name": "ipython",
    "version": 3
   },
   "file_extension": ".py",
   "mimetype": "text/x-python",
   "name": "python",
   "nbconvert_exporter": "python",
   "pygments_lexer": "ipython3",
   "version": "3.7.3"
  }
 },
 "nbformat": 4,
 "nbformat_minor": 2
}

{
 "cells": [
  {
   "cell_type": "markdown",
   "metadata": {},
   "source": [
    "## Work\n",
    "1. 試改變 monitor \"Validation Accuracy\" 並比較結果\n",
    "2. 調整 earlystop 的等待次數至 10, 25 並比較結果"
   ]
  },
  {
   "cell_type": "code",
   "execution_count": 1,
   "metadata": {},
   "outputs": [
    {
     "name": "stderr",
     "output_type": "stream",
     "text": [
      "Using TensorFlow backend.\n"
     ]
    }
   ],
   "source": [
    "import os\n",
    "import keras\n",
    "import matplotlib.pyplot as plt\n",
    "%matplotlib inline\n",
    "\n",
    "\n",
    "# Disable GPU\n",
    "os.environ[\"CUDA_VISIBLE_DEVICES\"] = \"\"\n",
    "import tensorflow as tf\n",
    "tf.logging.set_verbosity(tf.logging.ERROR)"
   ]
  },
  {
   "cell_type": "code",
   "execution_count": 2,
   "metadata": {},
   "outputs": [],
   "source": [
    "train, test = keras.datasets.cifar10.load_data()"
   ]
  },
  {
   "cell_type": "code",
   "execution_count": 3,
   "metadata": {},
   "outputs": [],
   "source": [
    "## 資料前處理\n",
    "def preproc_x(x, flatten=True):\n",
    "    x = x / 255.\n",
    "    if flatten:\n",
    "        x = x.reshape((len(x), -1))\n",
    "    return x\n",
    "\n",
    "def preproc_y(y, num_classes=10):\n",
    "    if y.shape[-1] == 1:\n",
    "        y = keras.utils.to_categorical(y, num_classes)\n",
    "    return y    "
   ]
  },
  {
   "cell_type": "code",
   "execution_count": 4,
   "metadata": {},
   "outputs": [],
   "source": [
    "x_train, y_train = train\n",
    "x_test, y_test = test\n",
    "\n",
    "# Preproc the inputs\n",
    "x_train = preproc_x(x_train)\n",
    "x_test = preproc_x(x_test)\n",
    "\n",
    "# Preprc the outputs\n",
    "y_train = preproc_y(y_train)\n",
    "y_test = preproc_y(y_test)"
   ]
  },
  {
   "cell_type": "code",
   "execution_count": 5,
   "metadata": {},
   "outputs": [],
   "source": [
    "from keras.layers import BatchNormalization\n",
    "\n",
    "\"\"\"\n",
    "建立神經網路，並加入 BN layer\n",
    "\"\"\"\n",
    "def build_mlp(input_shape, output_units=10, num_neurons=[512, 256, 128]):\n",
    "    input_layer = keras.layers.Input(input_shape)\n",
    "    \n",
    "    for i, n_units in enumerate(num_neurons):\n",
    "        if i == 0:\n",
    "            x = keras.layers.Dense(units=n_units, \n",
    "                                   activation=\"relu\", \n",
    "                                   name=\"hidden_layer\"+str(i+1))(input_layer)\n",
    "            x = BatchNormalization()(x)\n",
    "        else:\n",
    "            x = keras.layers.Dense(units=n_units, \n",
    "                                   activation=\"relu\", \n",
    "                                   name=\"hidden_layer\"+str(i+1))(x)\n",
    "            x = BatchNormalization()(x)\n",
    "    \n",
    "    out = keras.layers.Dense(units=output_units, activation=\"softmax\", name=\"output\")(x)\n",
    "    \n",
    "    model = keras.models.Model(inputs=[input_layer], outputs=[out])\n",
    "    return model"
   ]
  },
  {
   "cell_type": "code",
   "execution_count": 6,
   "metadata": {},
   "outputs": [],
   "source": [
    "## 超參數設定\n",
    "LEARNING_RATE = 1e-3\n",
    "EPOCHS = 50\n",
    "BATCH_SIZE = 1024\n",
    "MOMENTUM = 0.95"
   ]
  },
  {
   "cell_type": "code",
   "execution_count": 7,
   "metadata": {},
   "outputs": [],
   "source": [
    "# 載入 Callbacks\n",
    "from keras.callbacks import EarlyStopping\n",
    "\n",
    "def get_earlystop(patience):\n",
    "    earlystop = EarlyStopping(monitor=\"val_acc\", \n",
    "                              patience=patience, \n",
    "                              verbose=1\n",
    "                             )\n",
    "    return earlystop"
   ]
  },
  {
   "cell_type": "markdown",
   "metadata": {},
   "source": [
    "### 等待次數: 10"
   ]
  },
  {
   "cell_type": "code",
   "execution_count": 8,
   "metadata": {},
   "outputs": [],
   "source": [
    "earlystop = get_earlystop(10)"
   ]
  },
  {
   "cell_type": "code",
   "execution_count": 9,
   "metadata": {},
   "outputs": [
    {
     "name": "stdout",
     "output_type": "stream",
     "text": [
      "_________________________________________________________________\n",
      "Layer (type)                 Output Shape              Param #   \n",
      "=================================================================\n",
      "input_1 (InputLayer)         (None, 3072)              0         \n",
      "_________________________________________________________________\n",
      "hidden_layer1 (Dense)        (None, 512)               1573376   \n",
      "_________________________________________________________________\n",
      "batch_normalization_1 (Batch (None, 512)               2048      \n",
      "_________________________________________________________________\n",
      "hidden_layer2 (Dense)        (None, 256)               131328    \n",
      "_________________________________________________________________\n",
      "batch_normalization_2 (Batch (None, 256)               1024      \n",
      "_________________________________________________________________\n",
      "hidden_layer3 (Dense)        (None, 128)               32896     \n",
      "_________________________________________________________________\n",
      "batch_normalization_3 (Batch (None, 128)               512       \n",
      "_________________________________________________________________\n",
      "output (Dense)               (None, 10)                1290      \n",
      "=================================================================\n",
      "Total params: 1,742,474\n",
      "Trainable params: 1,740,682\n",
      "Non-trainable params: 1,792\n",
      "_________________________________________________________________\n",
      "Train on 50000 samples, validate on 10000 samples\n",
      "Epoch 1/50\n",
      "50000/50000 [==============================] - 4s 75us/step - loss: 2.2043 - acc: 0.2706 - val_loss: 2.1429 - val_acc: 0.3091\n",
      "Epoch 2/50\n",
      "50000/50000 [==============================] - 2s 40us/step - loss: 1.7412 - acc: 0.3944 - val_loss: 1.8286 - val_acc: 0.3751\n",
      "Epoch 3/50\n",
      "50000/50000 [==============================] - 2s 42us/step - loss: 1.6203 - acc: 0.4329 - val_loss: 1.6892 - val_acc: 0.4093\n",
      "Epoch 4/50\n",
      "50000/50000 [==============================] - 2s 41us/step - loss: 1.5471 - acc: 0.4569 - val_loss: 1.6262 - val_acc: 0.4325\n",
      "Epoch 5/50\n",
      "50000/50000 [==============================] - 2s 39us/step - loss: 1.4913 - acc: 0.4769 - val_loss: 1.5932 - val_acc: 0.4334\n",
      "Epoch 6/50\n",
      "50000/50000 [==============================] - 2s 40us/step - loss: 1.4459 - acc: 0.4937 - val_loss: 1.5700 - val_acc: 0.4516\n",
      "Epoch 7/50\n",
      "50000/50000 [==============================] - 2s 40us/step - loss: 1.4081 - acc: 0.5069 - val_loss: 1.5395 - val_acc: 0.4534\n",
      "Epoch 8/50\n",
      "50000/50000 [==============================] - 2s 40us/step - loss: 1.3728 - acc: 0.5209 - val_loss: 1.5253 - val_acc: 0.4600\n",
      "Epoch 9/50\n",
      "50000/50000 [==============================] - 2s 40us/step - loss: 1.3418 - acc: 0.5327 - val_loss: 1.5148 - val_acc: 0.4630\n",
      "Epoch 10/50\n",
      "50000/50000 [==============================] - 2s 44us/step - loss: 1.3123 - acc: 0.5429 - val_loss: 1.4979 - val_acc: 0.4708\n",
      "Epoch 11/50\n",
      "50000/50000 [==============================] - 2s 46us/step - loss: 1.2831 - acc: 0.5539 - val_loss: 1.4894 - val_acc: 0.4753\n",
      "Epoch 12/50\n",
      "50000/50000 [==============================] - 2s 45us/step - loss: 1.2555 - acc: 0.5651 - val_loss: 1.4901 - val_acc: 0.4764\n",
      "Epoch 13/50\n",
      "50000/50000 [==============================] - 2s 44us/step - loss: 1.2299 - acc: 0.5743 - val_loss: 1.4816 - val_acc: 0.4789\n",
      "Epoch 14/50\n",
      "50000/50000 [==============================] - 2s 46us/step - loss: 1.2049 - acc: 0.5840 - val_loss: 1.4768 - val_acc: 0.4781\n",
      "Epoch 15/50\n",
      "50000/50000 [==============================] - 3s 60us/step - loss: 1.1799 - acc: 0.5940 - val_loss: 1.4654 - val_acc: 0.4845\n",
      "Epoch 16/50\n",
      "50000/50000 [==============================] - 3s 53us/step - loss: 1.1577 - acc: 0.6030 - val_loss: 1.4658 - val_acc: 0.4830\n",
      "Epoch 17/50\n",
      "50000/50000 [==============================] - 3s 52us/step - loss: 1.1339 - acc: 0.6123 - val_loss: 1.4620 - val_acc: 0.4836\n",
      "Epoch 18/50\n",
      "50000/50000 [==============================] - 2s 47us/step - loss: 1.1124 - acc: 0.6187 - val_loss: 1.4696 - val_acc: 0.4837\n",
      "Epoch 19/50\n",
      "50000/50000 [==============================] - 2s 45us/step - loss: 1.0903 - acc: 0.6287 - val_loss: 1.4819 - val_acc: 0.4838\n",
      "Epoch 20/50\n",
      "50000/50000 [==============================] - 2s 45us/step - loss: 1.0666 - acc: 0.6365 - val_loss: 1.4566 - val_acc: 0.4880\n",
      "Epoch 21/50\n",
      "50000/50000 [==============================] - 2s 46us/step - loss: 1.0458 - acc: 0.6441 - val_loss: 1.4658 - val_acc: 0.4851\n",
      "Epoch 22/50\n",
      "50000/50000 [==============================] - 2s 46us/step - loss: 1.0243 - acc: 0.6513 - val_loss: 1.4630 - val_acc: 0.4857\n",
      "Epoch 23/50\n",
      "50000/50000 [==============================] - 2s 45us/step - loss: 1.0035 - acc: 0.6608 - val_loss: 1.4704 - val_acc: 0.4920\n",
      "Epoch 24/50\n",
      "50000/50000 [==============================] - 2s 45us/step - loss: 0.9833 - acc: 0.6678 - val_loss: 1.4731 - val_acc: 0.4924\n",
      "Epoch 25/50\n",
      "50000/50000 [==============================] - 2s 46us/step - loss: 0.9613 - acc: 0.6780 - val_loss: 1.4750 - val_acc: 0.4930\n",
      "Epoch 26/50\n",
      "50000/50000 [==============================] - 2s 45us/step - loss: 0.9401 - acc: 0.6839 - val_loss: 1.4695 - val_acc: 0.4897\n",
      "Epoch 27/50\n",
      "50000/50000 [==============================] - 2s 46us/step - loss: 0.9200 - acc: 0.6926 - val_loss: 1.4918 - val_acc: 0.4874\n",
      "Epoch 28/50\n",
      "50000/50000 [==============================] - 2s 46us/step - loss: 0.9004 - acc: 0.7005 - val_loss: 1.5064 - val_acc: 0.4825\n",
      "Epoch 29/50\n",
      "50000/50000 [==============================] - 2s 46us/step - loss: 0.8815 - acc: 0.7087 - val_loss: 1.4989 - val_acc: 0.4863\n",
      "Epoch 30/50\n",
      "50000/50000 [==============================] - 2s 47us/step - loss: 0.8601 - acc: 0.7166 - val_loss: 1.4913 - val_acc: 0.4908\n",
      "Epoch 31/50\n",
      "50000/50000 [==============================] - 2s 47us/step - loss: 0.8405 - acc: 0.7223 - val_loss: 1.4976 - val_acc: 0.4950\n",
      "Epoch 32/50\n",
      "50000/50000 [==============================] - 2s 45us/step - loss: 0.8198 - acc: 0.7320 - val_loss: 1.5141 - val_acc: 0.4884\n",
      "Epoch 33/50\n",
      "50000/50000 [==============================] - 2s 45us/step - loss: 0.7996 - acc: 0.7403 - val_loss: 1.5185 - val_acc: 0.4914\n",
      "Epoch 34/50\n",
      "50000/50000 [==============================] - 2s 45us/step - loss: 0.7827 - acc: 0.7479 - val_loss: 1.5220 - val_acc: 0.4907\n",
      "Epoch 35/50\n",
      "50000/50000 [==============================] - 2s 46us/step - loss: 0.7618 - acc: 0.7548 - val_loss: 1.5255 - val_acc: 0.4879\n",
      "Epoch 36/50\n",
      "50000/50000 [==============================] - 2s 45us/step - loss: 0.7448 - acc: 0.7626 - val_loss: 1.5463 - val_acc: 0.4866\n",
      "Epoch 37/50\n",
      "50000/50000 [==============================] - 2s 46us/step - loss: 0.7267 - acc: 0.7679 - val_loss: 1.5577 - val_acc: 0.4882\n",
      "Epoch 38/50\n",
      "50000/50000 [==============================] - 2s 46us/step - loss: 0.7047 - acc: 0.7786 - val_loss: 1.5459 - val_acc: 0.4968\n",
      "Epoch 39/50\n",
      "50000/50000 [==============================] - 2s 47us/step - loss: 0.6881 - acc: 0.7842 - val_loss: 1.5627 - val_acc: 0.4893\n",
      "Epoch 40/50\n",
      "50000/50000 [==============================] - 2s 46us/step - loss: 0.6704 - acc: 0.7929 - val_loss: 1.5837 - val_acc: 0.4880\n",
      "Epoch 41/50\n",
      "50000/50000 [==============================] - 2s 45us/step - loss: 0.6515 - acc: 0.8005 - val_loss: 1.5862 - val_acc: 0.4929\n",
      "Epoch 42/50\n",
      "50000/50000 [==============================] - 2s 45us/step - loss: 0.6350 - acc: 0.8045 - val_loss: 1.5877 - val_acc: 0.4931\n",
      "Epoch 43/50\n",
      "50000/50000 [==============================] - 2s 45us/step - loss: 0.6179 - acc: 0.8112 - val_loss: 1.6121 - val_acc: 0.4843\n",
      "Epoch 44/50\n",
      "50000/50000 [==============================] - 2s 48us/step - loss: 0.5991 - acc: 0.8209 - val_loss: 1.6208 - val_acc: 0.4842\n",
      "Epoch 45/50\n",
      "50000/50000 [==============================] - 2s 48us/step - loss: 0.5813 - acc: 0.8270 - val_loss: 1.6286 - val_acc: 0.4924\n",
      "Epoch 46/50\n",
      "50000/50000 [==============================] - 2s 46us/step - loss: 0.5633 - acc: 0.8347 - val_loss: 1.6378 - val_acc: 0.4901\n",
      "Epoch 47/50\n",
      "50000/50000 [==============================] - 2s 45us/step - loss: 0.5483 - acc: 0.8400 - val_loss: 1.6440 - val_acc: 0.4896\n",
      "Epoch 48/50\n",
      "50000/50000 [==============================] - 2s 46us/step - loss: 0.5311 - acc: 0.8470 - val_loss: 1.6638 - val_acc: 0.4886\n",
      "Epoch 00048: early stopping\n"
     ]
    }
   ],
   "source": [
    "model = build_mlp(input_shape=x_train.shape[1:])\n",
    "model.summary()\n",
    "optimizer = keras.optimizers.SGD(lr=LEARNING_RATE, nesterov=True, momentum=MOMENTUM)\n",
    "model.compile(loss=\"categorical_crossentropy\", metrics=[\"accuracy\"], optimizer=optimizer)\n",
    "\n",
    "model.fit(x_train, y_train, \n",
    "          epochs=EPOCHS, \n",
    "          batch_size=BATCH_SIZE, \n",
    "          validation_data=(x_test, y_test), \n",
    "          shuffle=True,\n",
    "          callbacks=[earlystop]\n",
    "         )\n",
    "\n",
    "# Collect results\n",
    "train_loss = model.history.history[\"loss\"]\n",
    "valid_loss = model.history.history[\"val_loss\"]\n",
    "train_acc = model.history.history[\"acc\"]\n",
    "valid_acc = model.history.history[\"val_acc\"]"
   ]
  },
  {
   "cell_type": "code",
   "execution_count": 10,
   "metadata": {},
   "outputs": [
    {
     "data": {
      "image/png": "[encoded data removed]",
      "text/plain": [
       "<Figure size 432x288 with 1 Axes>"
      ]
     },
     "metadata": {
      "needs_background": "light"
     },
     "output_type": "display_data"
    },
    {
     "data": {
      "image/png": "[encoded data removed]",
      "text/plain": [
       "<Figure size 432x288 with 1 Axes>"
      ]
     },
     "metadata": {
      "needs_background": "light"
     },
     "output_type": "display_data"
    }
   ],
   "source": [
    "import matplotlib.pyplot as plt\n",
    "%matplotlib inline\n",
    "\n",
    "plt.plot(range(len(train_loss)), train_loss, label=\"train loss\")\n",
    "plt.plot(range(len(valid_loss)), valid_loss, label=\"valid loss\")\n",
    "plt.legend()\n",
    "plt.title(\"Loss\")\n",
    "plt.show()\n",
    "\n",
    "plt.plot(range(len(train_acc)), train_acc, label=\"train accuracy\")\n",
    "plt.plot(range(len(valid_acc)), valid_acc, label=\"valid accuracy\")\n",
    "plt.legend()\n",
    "plt.title(\"Accuracy\")\n",
    "plt.show()"
   ]
  },
  {
   "cell_type": "markdown",
   "metadata": {},
   "source": [
    "### 等待次數: 25"
   ]
  },
  {
   "cell_type": "code",
   "execution_count": 11,
   "metadata": {},
   "outputs": [],
   "source": [
    "earlystop = get_earlystop(25)"
   ]
  },
  {
   "cell_type": "code",
   "execution_count": 12,
   "metadata": {},
   "outputs": [
    {
     "name": "stdout",
     "output_type": "stream",
     "text": [
      "_________________________________________________________________\n",
      "Layer (type)                 Output Shape              Param #   \n",
      "=================================================================\n",
      "input_2 (InputLayer)         (None, 3072)              0         \n",
      "_________________________________________________________________\n",
      "hidden_layer1 (Dense)        (None, 512)               1573376   \n",
      "_________________________________________________________________\n",
      "batch_normalization_4 (Batch (None, 512)               2048      \n",
      "_________________________________________________________________\n",
      "hidden_layer2 (Dense)        (None, 256)               131328    \n",
      "_________________________________________________________________\n",
      "batch_normalization_5 (Batch (None, 256)               1024      \n",
      "_________________________________________________________________\n",
      "hidden_layer3 (Dense)        (None, 128)               32896     \n",
      "_________________________________________________________________\n",
      "batch_normalization_6 (Batch (None, 128)               512       \n",
      "_________________________________________________________________\n",
      "output (Dense)               (None, 10)                1290      \n",
      "=================================================================\n",
      "Total params: 1,742,474\n",
      "Trainable params: 1,740,682\n",
      "Non-trainable params: 1,792\n",
      "_________________________________________________________________\n",
      "Train on 50000 samples, validate on 10000 samples\n",
      "Epoch 1/50\n",
      "50000/50000 [==============================] - 3s 61us/step - loss: 2.1895 - acc: 0.2733 - val_loss: 2.0559 - val_acc: 0.3274\n",
      "Epoch 2/50\n",
      "50000/50000 [==============================] - 2s 46us/step - loss: 1.7377 - acc: 0.3953 - val_loss: 1.7924 - val_acc: 0.3832\n",
      "Epoch 3/50\n",
      "50000/50000 [==============================] - 2s 45us/step - loss: 1.6129 - acc: 0.4374 - val_loss: 1.6660 - val_acc: 0.4202\n",
      "Epoch 4/50\n",
      "50000/50000 [==============================] - 2s 45us/step - loss: 1.5372 - acc: 0.4638 - val_loss: 1.5979 - val_acc: 0.4331\n",
      "Epoch 5/50\n",
      "50000/50000 [==============================] - 2s 45us/step - loss: 1.4849 - acc: 0.4823 - val_loss: 1.5837 - val_acc: 0.4391\n",
      "Epoch 6/50\n",
      "50000/50000 [==============================] - 2s 45us/step - loss: 1.4378 - acc: 0.4988 - val_loss: 1.5584 - val_acc: 0.4577\n",
      "Epoch 7/50\n",
      "50000/50000 [==============================] - 2s 46us/step - loss: 1.3980 - acc: 0.5125 - val_loss: 1.5301 - val_acc: 0.4592\n",
      "Epoch 8/50\n",
      "50000/50000 [==============================] - 2s 45us/step - loss: 1.3634 - acc: 0.5252 - val_loss: 1.5224 - val_acc: 0.4634\n",
      "Epoch 9/50\n",
      "50000/50000 [==============================] - 2s 46us/step - loss: 1.3307 - acc: 0.5371 - val_loss: 1.4965 - val_acc: 0.4752\n",
      "Epoch 10/50\n",
      "50000/50000 [==============================] - 2s 46us/step - loss: 1.3007 - acc: 0.5489 - val_loss: 1.4938 - val_acc: 0.4674\n",
      "Epoch 11/50\n",
      "50000/50000 [==============================] - 2s 46us/step - loss: 1.2740 - acc: 0.5587 - val_loss: 1.4862 - val_acc: 0.4786\n",
      "Epoch 12/50\n",
      "50000/50000 [==============================] - 2s 46us/step - loss: 1.2466 - acc: 0.5697 - val_loss: 1.4826 - val_acc: 0.4740\n",
      "Epoch 13/50\n",
      "50000/50000 [==============================] - 2s 46us/step - loss: 1.2216 - acc: 0.5784 - val_loss: 1.4785 - val_acc: 0.4771\n",
      "Epoch 14/50\n",
      "50000/50000 [==============================] - 2s 46us/step - loss: 1.1982 - acc: 0.5870 - val_loss: 1.4699 - val_acc: 0.4831\n",
      "Epoch 15/50\n",
      "50000/50000 [==============================] - 2s 45us/step - loss: 1.1708 - acc: 0.5979 - val_loss: 1.4613 - val_acc: 0.4845\n",
      "Epoch 16/50\n",
      "50000/50000 [==============================] - 2s 45us/step - loss: 1.1490 - acc: 0.6057 - val_loss: 1.4554 - val_acc: 0.4904\n",
      "Epoch 17/50\n",
      "50000/50000 [==============================] - 2s 46us/step - loss: 1.1266 - acc: 0.6127 - val_loss: 1.4482 - val_acc: 0.4921\n",
      "Epoch 18/50\n",
      "50000/50000 [==============================] - 2s 48us/step - loss: 1.1044 - acc: 0.6234 - val_loss: 1.4457 - val_acc: 0.4962\n",
      "Epoch 19/50\n",
      "50000/50000 [==============================] - 2s 47us/step - loss: 1.0818 - acc: 0.6306 - val_loss: 1.4572 - val_acc: 0.4898\n",
      "Epoch 20/50\n",
      "50000/50000 [==============================] - 2s 46us/step - loss: 1.0584 - acc: 0.6408 - val_loss: 1.4520 - val_acc: 0.4916\n",
      "Epoch 21/50\n",
      "50000/50000 [==============================] - 2s 45us/step - loss: 1.0387 - acc: 0.6465 - val_loss: 1.4515 - val_acc: 0.4942\n",
      "Epoch 22/50\n",
      "50000/50000 [==============================] - 2s 45us/step - loss: 1.0165 - acc: 0.6582 - val_loss: 1.4490 - val_acc: 0.4996\n",
      "Epoch 23/50\n",
      "50000/50000 [==============================] - 2s 44us/step - loss: 0.9961 - acc: 0.6646 - val_loss: 1.4717 - val_acc: 0.4911\n",
      "Epoch 24/50\n",
      "50000/50000 [==============================] - 2s 47us/step - loss: 0.9774 - acc: 0.6707 - val_loss: 1.4614 - val_acc: 0.4956\n",
      "Epoch 25/50\n",
      "50000/50000 [==============================] - 2s 47us/step - loss: 0.9551 - acc: 0.6793 - val_loss: 1.4582 - val_acc: 0.4931\n",
      "Epoch 26/50\n",
      "50000/50000 [==============================] - 2s 46us/step - loss: 0.9352 - acc: 0.6870 - val_loss: 1.4694 - val_acc: 0.4955\n",
      "Epoch 27/50\n",
      "50000/50000 [==============================] - 2s 44us/step - loss: 0.9140 - acc: 0.6967 - val_loss: 1.4647 - val_acc: 0.4978\n",
      "Epoch 28/50\n",
      "50000/50000 [==============================] - 2s 44us/step - loss: 0.8960 - acc: 0.7001 - val_loss: 1.4690 - val_acc: 0.4963\n",
      "Epoch 29/50\n",
      "50000/50000 [==============================] - 2s 44us/step - loss: 0.8752 - acc: 0.7110 - val_loss: 1.4824 - val_acc: 0.4916\n",
      "Epoch 30/50\n",
      "50000/50000 [==============================] - 2s 44us/step - loss: 0.8551 - acc: 0.7194 - val_loss: 1.4885 - val_acc: 0.4929\n",
      "Epoch 31/50\n",
      "50000/50000 [==============================] - 2s 44us/step - loss: 0.8373 - acc: 0.7251 - val_loss: 1.4910 - val_acc: 0.4926\n",
      "Epoch 32/50\n",
      "50000/50000 [==============================] - 2s 45us/step - loss: 0.8185 - acc: 0.7317 - val_loss: 1.4878 - val_acc: 0.4977\n",
      "Epoch 33/50\n",
      "50000/50000 [==============================] - 2s 44us/step - loss: 0.7989 - acc: 0.7403 - val_loss: 1.5076 - val_acc: 0.4960\n",
      "Epoch 34/50\n",
      "50000/50000 [==============================] - 2s 44us/step - loss: 0.7783 - acc: 0.7490 - val_loss: 1.5238 - val_acc: 0.4866\n",
      "Epoch 35/50\n",
      "50000/50000 [==============================] - 2s 44us/step - loss: 0.7595 - acc: 0.7546 - val_loss: 1.5100 - val_acc: 0.4951\n",
      "Epoch 36/50\n",
      "50000/50000 [==============================] - 2s 44us/step - loss: 0.7389 - acc: 0.7649 - val_loss: 1.5208 - val_acc: 0.4912\n",
      "Epoch 37/50\n",
      "50000/50000 [==============================] - 2s 44us/step - loss: 0.7206 - acc: 0.7706 - val_loss: 1.5432 - val_acc: 0.4966\n",
      "Epoch 38/50\n",
      "50000/50000 [==============================] - 2s 44us/step - loss: 0.7034 - acc: 0.7780 - val_loss: 1.5377 - val_acc: 0.4923\n",
      "Epoch 39/50\n",
      "50000/50000 [==============================] - 2s 44us/step - loss: 0.6838 - acc: 0.7860 - val_loss: 1.5353 - val_acc: 0.4933\n",
      "Epoch 40/50\n",
      "50000/50000 [==============================] - 2s 44us/step - loss: 0.6647 - acc: 0.7931 - val_loss: 1.5577 - val_acc: 0.4904\n",
      "Epoch 41/50\n",
      "50000/50000 [==============================] - 2s 44us/step - loss: 0.6489 - acc: 0.8002 - val_loss: 1.5582 - val_acc: 0.4913\n",
      "Epoch 42/50\n",
      "50000/50000 [==============================] - 2s 44us/step - loss: 0.6303 - acc: 0.8083 - val_loss: 1.5913 - val_acc: 0.4827\n",
      "Epoch 43/50\n",
      "50000/50000 [==============================] - 2s 44us/step - loss: 0.6149 - acc: 0.8135 - val_loss: 1.5987 - val_acc: 0.4932\n",
      "Epoch 44/50\n",
      "50000/50000 [==============================] - 2s 45us/step - loss: 0.5961 - acc: 0.8211 - val_loss: 1.5960 - val_acc: 0.4948\n",
      "Epoch 45/50\n",
      "50000/50000 [==============================] - 2s 44us/step - loss: 0.5777 - acc: 0.8290 - val_loss: 1.6153 - val_acc: 0.4874\n",
      "Epoch 46/50\n",
      "50000/50000 [==============================] - 2s 44us/step - loss: 0.5618 - acc: 0.8346 - val_loss: 1.6179 - val_acc: 0.4915\n",
      "Epoch 47/50\n",
      "50000/50000 [==============================] - 2s 46us/step - loss: 0.5457 - acc: 0.8418 - val_loss: 1.6360 - val_acc: 0.4901\n",
      "Epoch 00047: early stopping\n"
     ]
    }
   ],
   "source": [
    "model = build_mlp(input_shape=x_train.shape[1:])\n",
    "model.summary()\n",
    "optimizer = keras.optimizers.SGD(lr=LEARNING_RATE, nesterov=True, momentum=MOMENTUM)\n",
    "model.compile(loss=\"categorical_crossentropy\", metrics=[\"accuracy\"], optimizer=optimizer)\n",
    "\n",
    "model.fit(x_train, y_train, \n",
    "          epochs=EPOCHS, \n",
    "          batch_size=BATCH_SIZE, \n",
    "          validation_data=(x_test, y_test), \n",
    "          shuffle=True,\n",
    "          callbacks=[earlystop]\n",
    "         )\n",
    "\n",
    "# Collect results\n",
    "train_loss = model.history.history[\"loss\"]\n",
    "valid_loss = model.history.history[\"val_loss\"]\n",
    "train_acc = model.history.history[\"acc\"]\n",
    "valid_acc = model.history.history[\"val_acc\"]"
   ]
  },
  {
   "cell_type": "code",
   "execution_count": 13,
   "metadata": {},
   "outputs": [
    {
     "data": {
      "image/png": "[encoded data removed]",
      "text/plain": [
       "<Figure size 432x288 with 1 Axes>"
      ]
     },
     "metadata": {
      "needs_background": "light"
     },
     "output_type": "display_data"
    },
    {
     "data": {
      "image/png": "[encoded data removed]",
      "text/plain": [
       "<Figure size 432x288 with 1 Axes>"
      ]
     },
     "metadata": {
      "needs_background": "light"
     },
     "output_type": "display_data"
    }
   ],
   "source": [
    "plt.plot(range(len(train_loss)), train_loss, label=\"train loss\")\n",
    "plt.plot(range(len(valid_loss)), valid_loss, label=\"valid loss\")\n",
    "plt.legend()\n",
    "plt.title(\"Loss\")\n",
    "plt.show()\n",
    "\n",
    "plt.plot(range(len(train_acc)), train_acc, label=\"train accuracy\")\n",
    "plt.plot(range(len(valid_acc)), valid_acc, label=\"valid accuracy\")\n",
    "plt.legend()\n",
    "plt.title(\"Accuracy\")\n",
    "plt.show()"
   ]
  }
 ],
 "metadata": {
  "kernelspec": {
   "display_name": "Python 3",
   "language": "python",
   "name": "python3"
  },
  "language_info": {
   "codemirror_mode": {
    "name": "ipython",
    "version": 3
   },
   "file_extension": ".py",
   "mimetype": "text/x-python",
   "name": "python",
   "nbconvert_exporter": "python",
   "pygments_lexer": "ipython3",
   "version": "3.7.3"
  }
 },
 "nbformat": 4,
 "nbformat_minor": 2
}

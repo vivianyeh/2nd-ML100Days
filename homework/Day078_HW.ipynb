{
 "cells": [
  {
   "cell_type": "markdown",
   "metadata": {},
   "source": [
    "## Work\n",
    "1. 請嘗試將 preproc_x 替換成以每筆資料的 min/max 進行標準化至 -1 ~ 1 間，再進行訓練\n",
    "2. 請嘗試將 mlp 疊更深 (e.g 5~10 層)，進行訓練後觀察 learning curve 的走勢\n",
    "3. (optional) 請改用 GPU 進行訓練 (如果你有 GPU 的話)，比較使用 CPU 與 GPU 的訓練速度"
   ]
  },
  {
   "cell_type": "code",
   "execution_count": 1,
   "metadata": {},
   "outputs": [
    {
     "data": {
      "text/plain": [
       "'\\nYour code here (optional)\\n確認硬體資源\\n'"
      ]
     },
     "execution_count": 1,
     "metadata": {},
     "output_type": "execute_result"
    }
   ],
   "source": [
    "## \n",
    "\"\"\"\n",
    "Your code here (optional)\n",
    "確認硬體資源\n",
    "\"\"\""
   ]
  },
  {
   "cell_type": "code",
   "execution_count": 2,
   "metadata": {},
   "outputs": [
    {
     "name": "stderr",
     "output_type": "stream",
     "text": [
      "Using TensorFlow backend.\n"
     ]
    }
   ],
   "source": [
    "import os\n",
    "import keras\n",
    "import numpy as np\n",
    "import tensorflow as tf\n",
    "tf.logging.set_verbosity(tf.logging.ERROR)\n",
    "\n",
    "# 請嘗試設定 GPU：os.environ\n",
    "os.environ[\"CUDA_VISIBLE_DEVICES\"] = \"0\""
   ]
  },
  {
   "cell_type": "code",
   "execution_count": 3,
   "metadata": {},
   "outputs": [],
   "source": [
    "train, test = keras.datasets.cifar10.load_data()"
   ]
  },
  {
   "cell_type": "code",
   "execution_count": 4,
   "metadata": {},
   "outputs": [],
   "source": [
    "## 資料前處理\n",
    "def preproc_x(x):\n",
    "    x_max = np.max(x)\n",
    "    x_min = np.min(x)\n",
    "    normal = 2*((x-x_min)/(x_max-x_min))-1\n",
    "    normal = normal.reshape((len(normal), -1))\n",
    "    return normal\n",
    "\n",
    "def preproc_y(y, num_classes=10):\n",
    "    if y.shape[-1] == 1:\n",
    "        y = keras.utils.to_categorical(y, num_classes)\n",
    "    return y "
   ]
  },
  {
   "cell_type": "code",
   "execution_count": 5,
   "metadata": {},
   "outputs": [],
   "source": [
    "x_train, y_train = train\n",
    "x_test, y_test = test\n",
    "\n",
    "# Preproc the inputs\n",
    "x_train = preproc_x(x_train)\n",
    "x_test = preproc_x(x_test)\n",
    "\n",
    "# Preproc the outputs\n",
    "y_train = preproc_y(y_train)\n",
    "y_test = preproc_y(y_test)"
   ]
  },
  {
   "cell_type": "code",
   "execution_count": 6,
   "metadata": {},
   "outputs": [
    {
     "name": "stdout",
     "output_type": "stream",
     "text": [
      "_________________________________________________________________\n",
      "Layer (type)                 Output Shape              Param #   \n",
      "=================================================================\n",
      "input_1 (InputLayer)         (None, 3072)              0         \n",
      "_________________________________________________________________\n",
      "hidden_layer1 (Dense)        (None, 512)               1573376   \n",
      "_________________________________________________________________\n",
      "hidden_layer2 (Dense)        (None, 256)               131328    \n",
      "_________________________________________________________________\n",
      "hidden_layer3 (Dense)        (None, 128)               32896     \n",
      "_________________________________________________________________\n",
      "output (Dense)               (None, 10)                1290      \n",
      "=================================================================\n",
      "Total params: 1,738,890\n",
      "Trainable params: 1,738,890\n",
      "Non-trainable params: 0\n",
      "_________________________________________________________________\n"
     ]
    }
   ],
   "source": [
    "def build_mlp(input_shape, output_units=10, num_neurons=[512, 256, 128]):\n",
    "    input_layer = keras.layers.Input(input_shape)\n",
    "    \n",
    "    for i, n_units in enumerate(num_neurons):\n",
    "        if i == 0:\n",
    "            x = keras.layers.Dense(units=n_units, activation=\"relu\", name=\"hidden_layer\"+str(i+1))(input_layer)\n",
    "        else:\n",
    "            x = keras.layers.Dense(units=n_units, activation=\"relu\", name=\"hidden_layer\"+str(i+1))(x)\n",
    "    \n",
    "    out = keras.layers.Dense(units=output_units, activation=\"softmax\", name=\"output\")(x)\n",
    "    \n",
    "    model = keras.models.Model(inputs=[input_layer], outputs=[out])\n",
    "    return model\n",
    "\n",
    "model = build_mlp(input_shape=x_train.shape[1:])\n",
    "model.summary()"
   ]
  },
  {
   "cell_type": "code",
   "execution_count": 7,
   "metadata": {},
   "outputs": [],
   "source": [
    "## 超參數設定\n",
    "LEARNING_RATE = 0.001\n",
    "EPOCHS = 100\n",
    "BATCH_SIZE = 256"
   ]
  },
  {
   "cell_type": "code",
   "execution_count": 8,
   "metadata": {},
   "outputs": [],
   "source": [
    "optimizer = keras.optimizers.Adam(lr=LEARNING_RATE)\n",
    "model.compile(loss=\"categorical_crossentropy\", metrics=[\"accuracy\"], optimizer=optimizer)"
   ]
  },
  {
   "cell_type": "code",
   "execution_count": 9,
   "metadata": {},
   "outputs": [
    {
     "name": "stdout",
     "output_type": "stream",
     "text": [
      "Train on 50000 samples, validate on 10000 samples\n",
      "Epoch 1/100\n",
      "50000/50000 [==============================] - 4s 87us/step - loss: 1.6731 - acc: 0.4081 - val_loss: 1.5238 - val_acc: 0.4639\n",
      "Epoch 2/100\n",
      "50000/50000 [==============================] - 3s 57us/step - loss: 1.4510 - acc: 0.4875 - val_loss: 1.4393 - val_acc: 0.4983\n",
      "Epoch 3/100\n",
      "50000/50000 [==============================] - 3s 58us/step - loss: 1.3222 - acc: 0.5360 - val_loss: 1.4304 - val_acc: 0.4962\n",
      "Epoch 4/100\n",
      "50000/50000 [==============================] - 3s 57us/step - loss: 1.2338 - acc: 0.5666 - val_loss: 1.3831 - val_acc: 0.5179\n",
      "Epoch 5/100\n",
      "50000/50000 [==============================] - 3s 60us/step - loss: 1.1395 - acc: 0.6001 - val_loss: 1.4108 - val_acc: 0.51431.1367 - acc: 0.60 - ETA: 0s - loss: 1.1378 - acc: 0.6\n",
      "Epoch 6/100\n",
      "50000/50000 [==============================] - 3s 64us/step - loss: 1.0566 - acc: 0.6296 - val_loss: 1.3739 - val_acc: 0.5297\n",
      "Epoch 7/100\n",
      "50000/50000 [==============================] - 3s 69us/step - loss: 0.9790 - acc: 0.6558 - val_loss: 1.3931 - val_acc: 0.5274\n",
      "Epoch 8/100\n",
      "50000/50000 [==============================] - 4s 77us/step - loss: 0.8985 - acc: 0.6842 - val_loss: 1.4644 - val_acc: 0.5277\n",
      "Epoch 9/100\n",
      "50000/50000 [==============================] - 3s 65us/step - loss: 0.8333 - acc: 0.7043 - val_loss: 1.4476 - val_acc: 0.5378\n",
      "Epoch 10/100\n",
      "50000/50000 [==============================] - 3s 65us/step - loss: 0.7521 - acc: 0.7338 - val_loss: 1.5046 - val_acc: 0.5416\n",
      "Epoch 11/100\n",
      "50000/50000 [==============================] - 3s 62us/step - loss: 0.6792 - acc: 0.7597 - val_loss: 1.6052 - val_acc: 0.5326A: 1s - loss: 0.6424 - acc:  - ETA: 1s - loss: 0.6441 - ETA: 0s - loss: 0.6652 - \n",
      "Epoch 12/100\n",
      "50000/50000 [==============================] - 3s 62us/step - loss: 0.6123 - acc: 0.7861 - val_loss: 1.6660 - val_acc: 0.5401\n",
      "Epoch 13/100\n",
      "50000/50000 [==============================] - 3s 64us/step - loss: 0.5494 - acc: 0.8066 - val_loss: 1.7477 - val_acc: 0.5279\n",
      "Epoch 14/100\n",
      "50000/50000 [==============================] - 3s 63us/step - loss: 0.4992 - acc: 0.8235 - val_loss: 1.7980 - val_acc: 0.5351\n",
      "Epoch 15/100\n",
      "50000/50000 [==============================] - 3s 65us/step - loss: 0.4434 - acc: 0.8452 - val_loss: 1.9089 - val_acc: 0.5342\n",
      "Epoch 16/100\n",
      "50000/50000 [==============================] - 3s 65us/step - loss: 0.3978 - acc: 0.8610 - val_loss: 2.0034 - val_acc: 0.5351s: 0.3671 - acc: 0.874 - ETA: 1s - loss: 0.3680 - acc: 0. - ETA: 1s\n",
      "Epoch 17/100\n",
      "50000/50000 [==============================] - 3s 62us/step - loss: 0.3715 - acc: 0.8698 - val_loss: 2.1163 - val_acc: 0.5248 1s - loss: 0.33 - ETA: 0s - loss: 0.3524 - acc: 0.877 - ETA: 0s - loss: 0.3522 - acc: 0.87 - ETA: 0s - loss: 0.3550 - ac\n",
      "Epoch 18/100\n",
      "50000/50000 [==============================] - 3s 65us/step - loss: 0.3337 - acc: 0.8829 - val_loss: 2.2172 - val_acc: 0.5258s - loss: 0.3225 - acc: - ETA: 1s - loss: 0.3201 - a - ETA: 0s - loss: 0.3266 - acc: - ETA: 0s - loss: 0.3312 - acc\n",
      "Epoch 19/100\n",
      "50000/50000 [==============================] - 3s 70us/step - loss: 0.2953 - acc: 0.8974 - val_loss: 2.3501 - val_acc: 0.5247\n",
      "Epoch 20/100\n",
      "50000/50000 [==============================] - 4s 73us/step - loss: 0.2797 - acc: 0.9024 - val_loss: 2.4076 - val_acc: 0.5228\n",
      "Epoch 21/100\n",
      "50000/50000 [==============================] - 3s 63us/step - loss: 0.2618 - acc: 0.9092 - val_loss: 2.5206 - val_acc: 0.5224 0.90\n",
      "Epoch 22/100\n",
      "50000/50000 [==============================] - 3s 66us/step - loss: 0.2526 - acc: 0.9117 - val_loss: 2.5972 - val_acc: 0.5185\n",
      "Epoch 23/100\n",
      "50000/50000 [==============================] - 3s 64us/step - loss: 0.2172 - acc: 0.9249 - val_loss: 2.7280 - val_acc: 0.5244\n",
      "Epoch 24/100\n",
      "50000/50000 [==============================] - 4s 72us/step - loss: 0.2162 - acc: 0.9254 - val_loss: 2.7578 - val_acc: 0.5220\n",
      "Epoch 25/100\n",
      "50000/50000 [==============================] - 3s 64us/step - loss: 0.1802 - acc: 0.9379 - val_loss: 2.8407 - val_acc: 0.5311 2s - lo - ETA: 0s - loss: 0.1748 \n",
      "Epoch 26/100\n",
      "50000/50000 [==============================] - 3s 65us/step - loss: 0.1960 - acc: 0.9324 - val_loss: 2.8895 - val_acc: 0.5215\n",
      "Epoch 27/100\n",
      "50000/50000 [==============================] - 3s 67us/step - loss: 0.1915 - acc: 0.9349 - val_loss: 2.9192 - val_acc: 0.5211\n",
      "Epoch 28/100\n",
      "50000/50000 [==============================] - 4s 77us/step - loss: 0.1899 - acc: 0.9338 - val_loss: 3.0392 - val_acc: 0.5200\n",
      "Epoch 29/100\n",
      "50000/50000 [==============================] - 3s 67us/step - loss: 0.1786 - acc: 0.9379 - val_loss: 3.0304 - val_acc: 0.5273oss: 0.179\n",
      "Epoch 30/100\n",
      "50000/50000 [==============================] - 3s 65us/step - loss: 0.1516 - acc: 0.9476 - val_loss: 3.1063 - val_acc: 0.5241\n",
      "Epoch 31/100\n",
      "50000/50000 [==============================] - 3s 64us/step - loss: 0.1731 - acc: 0.9409 - val_loss: 3.1939 - val_acc: 0.51931694 - acc - ETA: 0s - loss: 0.1726 - ac\n",
      "Epoch 32/100\n",
      "50000/50000 [==============================] - 3s 65us/step - loss: 0.1548 - acc: 0.9471 - val_loss: 3.2053 - val_acc: 0.5275\n",
      "Epoch 33/100\n",
      "50000/50000 [==============================] - 4s 77us/step - loss: 0.1516 - acc: 0.9485 - val_loss: 3.3141 - val_acc: 0.5259\n",
      "Epoch 34/100\n",
      "50000/50000 [==============================] - 3s 65us/step - loss: 0.1546 - acc: 0.9473 - val_loss: 3.2560 - val_acc: 0.5192\n",
      "Epoch 35/100\n",
      "50000/50000 [==============================] - 3s 67us/step - loss: 0.1534 - acc: 0.9484 - val_loss: 3.4030 - val_acc: 0.5263s - loss: 0.1538 - acc: 0.94 - ETA: 0s - loss: 0.1539 - acc: 0.94\n",
      "Epoch 36/100\n",
      "50000/50000 [==============================] - 3s 65us/step - loss: 0.1364 - acc: 0.9529 - val_loss: 3.4289 - val_acc: 0.5303\n",
      "Epoch 37/100\n",
      "50000/50000 [==============================] - 3s 62us/step - loss: 0.1301 - acc: 0.9553 - val_loss: 3.4259 - val_acc: 0.5266 \n",
      "Epoch 38/100\n",
      "50000/50000 [==============================] - 3s 63us/step - loss: 0.1478 - acc: 0.9507 - val_loss: 3.4636 - val_acc: 0.5291\n",
      "Epoch 39/100\n",
      "50000/50000 [==============================] - 3s 67us/step - loss: 0.1165 - acc: 0.9598 - val_loss: 3.5171 - val_acc: 0.5249\n",
      "Epoch 40/100\n",
      "50000/50000 [==============================] - 3s 68us/step - loss: 0.1463 - acc: 0.9507 - val_loss: 3.4776 - val_acc: 0.5292\n",
      "Epoch 41/100\n",
      "50000/50000 [==============================] - 4s 79us/step - loss: 0.1313 - acc: 0.9571 - val_loss: 3.5219 - val_acc: 0.5227\n",
      "Epoch 42/100\n",
      "50000/50000 [==============================] - 3s 64us/step - loss: 0.1270 - acc: 0.9578 - val_loss: 3.5268 - val_acc: 0.5200\n",
      "Epoch 43/100\n",
      "50000/50000 [==============================] - 3s 63us/step - loss: 0.1138 - acc: 0.9625 - val_loss: 3.6736 - val_acc: 0.5215\n",
      "Epoch 44/100\n",
      "50000/50000 [==============================] - 3s 67us/step - loss: 0.1166 - acc: 0.9617 - val_loss: 3.6571 - val_acc: 0.5237\n",
      "Epoch 45/100\n",
      "50000/50000 [==============================] - 3s 66us/step - loss: 0.1124 - acc: 0.9609 - val_loss: 3.6438 - val_acc: 0.5262\n",
      "Epoch 46/100\n",
      "50000/50000 [==============================] - 3s 69us/step - loss: 0.1249 - acc: 0.9581 - val_loss: 3.7171 - val_acc: 0.5260\n",
      "Epoch 47/100\n",
      "50000/50000 [==============================] - 3s 68us/step - loss: 0.1255 - acc: 0.9582 - val_loss: 3.6881 - val_acc: 0.5184\n",
      "Epoch 48/100\n",
      "50000/50000 [==============================] - 3s 64us/step - loss: 0.0982 - acc: 0.9669 - val_loss: 3.7994 - val_acc: 0.5216-\n",
      "Epoch 49/100\n",
      "50000/50000 [==============================] - 3s 65us/step - loss: 0.0866 - acc: 0.9717 - val_loss: 3.7433 - val_acc: 0.5259\n",
      "Epoch 50/100\n",
      "50000/50000 [==============================] - 3s 63us/step - loss: 0.1021 - acc: 0.9659 - val_loss: 3.8278 - val_acc: 0.5212\n",
      "Epoch 51/100\n",
      "50000/50000 [==============================] - 3s 66us/step - loss: 0.1004 - acc: 0.9667 - val_loss: 3.9107 - val_acc: 0.5239\n",
      "Epoch 52/100\n",
      "50000/50000 [==============================] - 3s 66us/step - loss: 0.1190 - acc: 0.9605 - val_loss: 3.8654 - val_acc: 0.5222\n",
      "Epoch 53/100\n",
      "50000/50000 [==============================] - 3s 64us/step - loss: 0.1141 - acc: 0.9628 - val_loss: 3.9056 - val_acc: 0.5322\n",
      "Epoch 54/100\n",
      "50000/50000 [==============================] - 4s 72us/step - loss: 0.1188 - acc: 0.9610 - val_loss: 3.8733 - val_acc: 0.5272\n",
      "Epoch 55/100\n"
     ]
    },
    {
     "name": "stdout",
     "output_type": "stream",
     "text": [
      "50000/50000 [==============================] - 4s 77us/step - loss: 0.0966 - acc: 0.9675 - val_loss: 3.9424 - val_acc: 0.5240\n",
      "Epoch 56/100\n",
      "50000/50000 [==============================] - 4s 75us/step - loss: 0.0986 - acc: 0.9674 - val_loss: 3.9032 - val_acc: 0.5183\n",
      "Epoch 57/100\n",
      "50000/50000 [==============================] - 4s 77us/step - loss: 0.1073 - acc: 0.9651 - val_loss: 3.8859 - val_acc: 0.5244\n",
      "Epoch 58/100\n",
      "50000/50000 [==============================] - 4s 71us/step - loss: 0.0905 - acc: 0.9712 - val_loss: 4.0376 - val_acc: 0.5300\n",
      "Epoch 59/100\n",
      "50000/50000 [==============================] - 3s 67us/step - loss: 0.0840 - acc: 0.9720 - val_loss: 3.9707 - val_acc: 0.5241\n",
      "Epoch 60/100\n",
      "50000/50000 [==============================] - 3s 64us/step - loss: 0.0828 - acc: 0.9727 - val_loss: 4.0476 - val_acc: 0.5226\n",
      "Epoch 61/100\n",
      "50000/50000 [==============================] - 3s 63us/step - loss: 0.1052 - acc: 0.9656 - val_loss: 4.0152 - val_acc: 0.5281\n",
      "Epoch 62/100\n",
      "50000/50000 [==============================] - 3s 63us/step - loss: 0.1015 - acc: 0.9676 - val_loss: 4.1352 - val_acc: 0.5234\n",
      "Epoch 63/100\n",
      "50000/50000 [==============================] - 3s 62us/step - loss: 0.1073 - acc: 0.9661 - val_loss: 4.0050 - val_acc: 0.5268 acc: - ETA: 0s - loss: 0.1082 - acc:\n",
      "Epoch 64/100\n",
      "50000/50000 [==============================] - 3s 62us/step - loss: 0.0934 - acc: 0.9690 - val_loss: 4.0961 - val_acc: 0.5147\n",
      "Epoch 65/100\n",
      "50000/50000 [==============================] - 3s 62us/step - loss: 0.0875 - acc: 0.9720 - val_loss: 4.1876 - val_acc: 0.5151 2s - loss: 0.0860 - acc: 0.9\n",
      "Epoch 66/100\n",
      "50000/50000 [==============================] - 3s 64us/step - loss: 0.0899 - acc: 0.9705 - val_loss: 4.1359 - val_acc: 0.5223\n",
      "Epoch 67/100\n",
      "50000/50000 [==============================] - 3s 68us/step - loss: 0.0836 - acc: 0.9730 - val_loss: 4.1752 - val_acc: 0.5200819 - acc: 0\n",
      "Epoch 68/100\n",
      "50000/50000 [==============================] - 3s 70us/step - loss: 0.0908 - acc: 0.9706 - val_loss: 4.1661 - val_acc: 0.5239\n",
      "Epoch 69/100\n",
      "50000/50000 [==============================] - 3s 63us/step - loss: 0.0812 - acc: 0.9739 - val_loss: 4.2439 - val_acc: 0.5216A: 1s - loss: 0.0684 - a - ETA: 1s - loss: 0\n",
      "Epoch 70/100\n",
      "50000/50000 [==============================] - 3s 64us/step - loss: 0.0922 - acc: 0.9699 - val_loss: 4.1240 - val_acc: 0.5205\n",
      "Epoch 71/100\n",
      "50000/50000 [==============================] - 3s 66us/step - loss: 0.0864 - acc: 0.9723 - val_loss: 4.1263 - val_acc: 0.5285\n",
      "Epoch 72/100\n",
      "50000/50000 [==============================] - 3s 65us/step - loss: 0.0578 - acc: 0.9810 - val_loss: 4.1721 - val_acc: 0.5300\n",
      "Epoch 73/100\n",
      "50000/50000 [==============================] - 3s 66us/step - loss: 0.0748 - acc: 0.9762 - val_loss: 4.2834 - val_acc: 0.5212\n",
      "Epoch 74/100\n",
      "50000/50000 [==============================] - 3s 63us/step - loss: 0.1046 - acc: 0.9671 - val_loss: 4.2669 - val_acc: 0.5202\n",
      "Epoch 75/100\n",
      "50000/50000 [==============================] - 3s 64us/step - loss: 0.1126 - acc: 0.9647 - val_loss: 4.1811 - val_acc: 0.5238\n",
      "Epoch 76/100\n",
      "50000/50000 [==============================] - 3s 67us/step - loss: 0.0864 - acc: 0.9716 - val_loss: 4.2309 - val_acc: 0.5262\n",
      "Epoch 77/100\n",
      "50000/50000 [==============================] - 3s 63us/step - loss: 0.0798 - acc: 0.9748 - val_loss: 4.3110 - val_acc: 0.5245\n",
      "Epoch 78/100\n",
      "50000/50000 [==============================] - 3s 62us/step - loss: 0.0695 - acc: 0.9780 - val_loss: 4.3201 - val_acc: 0.5223s - loss: 0.0658 - acc:  - ETA: 0s - loss: 0.0673 - acc: \n",
      "Epoch 79/100\n",
      "50000/50000 [==============================] - 4s 75us/step - loss: 0.0699 - acc: 0.9772 - val_loss: 4.2722 - val_acc: 0.5203\n",
      "Epoch 80/100\n",
      "50000/50000 [==============================] - 4s 72us/step - loss: 0.0976 - acc: 0.9697 - val_loss: 4.2269 - val_acc: 0.5208\n",
      "Epoch 81/100\n",
      "50000/50000 [==============================] - 3s 67us/step - loss: 0.0743 - acc: 0.9758 - val_loss: 4.2970 - val_acc: 0.5217s: 0.0730 - acc:\n",
      "Epoch 82/100\n",
      "50000/50000 [==============================] - 3s 63us/step - loss: 0.0684 - acc: 0.9786 - val_loss: 4.3284 - val_acc: 0.5283\n",
      "Epoch 83/100\n",
      "50000/50000 [==============================] - 3s 63us/step - loss: 0.0708 - acc: 0.9778 - val_loss: 4.3448 - val_acc: 0.5229\n",
      "Epoch 84/100\n",
      "50000/50000 [==============================] - 3s 63us/step - loss: 0.0735 - acc: 0.9770 - val_loss: 4.3249 - val_acc: 0.5229\n",
      "Epoch 85/100\n",
      "50000/50000 [==============================] - 3s 65us/step - loss: 0.0814 - acc: 0.9753 - val_loss: 4.3830 - val_acc: 0.5277\n",
      "Epoch 86/100\n",
      "50000/50000 [==============================] - 3s 68us/step - loss: 0.0628 - acc: 0.9809 - val_loss: 4.3552 - val_acc: 0.5317\n",
      "Epoch 87/100\n",
      "50000/50000 [==============================] - 3s 70us/step - loss: 0.0740 - acc: 0.9761 - val_loss: 4.4286 - val_acc: 0.5156\n",
      "Epoch 88/100\n",
      "50000/50000 [==============================] - 3s 63us/step - loss: 0.0839 - acc: 0.9736 - val_loss: 4.4357 - val_acc: 0.5220\n",
      "Epoch 89/100\n",
      "50000/50000 [==============================] - 3s 63us/step - loss: 0.0729 - acc: 0.9765 - val_loss: 4.4141 - val_acc: 0.5253\n",
      "Epoch 90/100\n",
      "50000/50000 [==============================] - 3s 62us/step - loss: 0.0784 - acc: 0.9759 - val_loss: 4.3940 - val_acc: 0.5202\n",
      "Epoch 91/100\n",
      "50000/50000 [==============================] - 3s 64us/step - loss: 0.0863 - acc: 0.9732 - val_loss: 4.3668 - val_acc: 0.5178\n",
      "Epoch 92/100\n",
      "50000/50000 [==============================] - 3s 65us/step - loss: 0.0727 - acc: 0.9769 - val_loss: 4.4381 - val_acc: 0.5265\n",
      "Epoch 93/100\n",
      "50000/50000 [==============================] - 3s 64us/step - loss: 0.0583 - acc: 0.9811 - val_loss: 4.3862 - val_acc: 0.5236\n",
      "Epoch 94/100\n",
      "50000/50000 [==============================] - 3s 64us/step - loss: 0.0618 - acc: 0.9804 - val_loss: 4.4946 - val_acc: 0.5249A: 1s - l\n",
      "Epoch 95/100\n",
      "50000/50000 [==============================] - 3s 63us/step - loss: 0.0612 - acc: 0.9805 - val_loss: 4.4580 - val_acc: 0.5263\n",
      "Epoch 96/100\n",
      "50000/50000 [==============================] - 3s 63us/step - loss: 0.0800 - acc: 0.9752 - val_loss: 4.5276 - val_acc: 0.5239A: 1\n",
      "Epoch 97/100\n",
      "50000/50000 [==============================] - 3s 67us/step - loss: 0.0746 - acc: 0.9772 - val_loss: 4.4772 - val_acc: 0.5330\n",
      "Epoch 98/100\n",
      "50000/50000 [==============================] - 3s 69us/step - loss: 0.0780 - acc: 0.9753 - val_loss: 4.4380 - val_acc: 0.5268\n",
      "Epoch 99/100\n",
      "50000/50000 [==============================] - 3s 65us/step - loss: 0.0659 - acc: 0.9788 - val_loss: 4.4757 - val_acc: 0.51700654 \n",
      "Epoch 100/100\n",
      "50000/50000 [==============================] - 3s 64us/step - loss: 0.0544 - acc: 0.9823 - val_loss: 4.4386 - val_acc: 0.5247oss: 0.0549 - a\n"
     ]
    },
    {
     "data": {
      "text/plain": [
       "<keras.callbacks.History at 0x190934e3470>"
      ]
     },
     "execution_count": 9,
     "metadata": {},
     "output_type": "execute_result"
    }
   ],
   "source": [
    "model.fit(x_train, y_train, \n",
    "          epochs=EPOCHS, \n",
    "          batch_size=BATCH_SIZE, \n",
    "          validation_data=(x_test, y_test), \n",
    "          shuffle=True)"
   ]
  },
  {
   "cell_type": "code",
   "execution_count": 10,
   "metadata": {},
   "outputs": [],
   "source": [
    "import matplotlib.pyplot as plt\n",
    "\n",
    "\n",
    "train_loss = model.history.history[\"loss\"]\n",
    "valid_loss = model.history.history[\"val_loss\"]\n",
    "\n",
    "train_acc = model.history.history[\"acc\"]\n",
    "valid_acc = model.history.history[\"val_acc\"]"
   ]
  },
  {
   "cell_type": "code",
   "execution_count": 11,
   "metadata": {},
   "outputs": [
    {
     "data": {
      "image/png": "[encoded data removed]",
      "text/plain": [
       "<Figure size 432x288 with 1 Axes>"
      ]
     },
     "metadata": {
      "needs_background": "light"
     },
     "output_type": "display_data"
    }
   ],
   "source": [
    "plt.plot(range(len(train_loss)), train_loss, label=\"train loss\")\n",
    "plt.plot(range(len(valid_loss)), valid_loss, label=\"valid loss\")\n",
    "plt.legend()\n",
    "plt.title(\"Loss\")\n",
    "plt.show()"
   ]
  },
  {
   "cell_type": "code",
   "execution_count": 12,
   "metadata": {},
   "outputs": [
    {
     "data": {
      "image/png": "[encoded data removed]",
      "text/plain": [
       "<Figure size 432x288 with 1 Axes>"
      ]
     },
     "metadata": {
      "needs_background": "light"
     },
     "output_type": "display_data"
    }
   ],
   "source": [
    "plt.plot(range(len(train_acc)), train_acc, label=\"train accuracy\")\n",
    "plt.plot(range(len(valid_acc)), valid_acc, label=\"valid accuracy\")\n",
    "plt.legend()\n",
    "plt.title(\"Accuracy\")\n",
    "plt.show()"
   ]
  }
 ],
 "metadata": {
  "kernelspec": {
   "display_name": "Python 3",
   "language": "python",
   "name": "python3"
  },
  "language_info": {
   "codemirror_mode": {
    "name": "ipython",
    "version": 3
   },
   "file_extension": ".py",
   "mimetype": "text/x-python",
   "name": "python",
   "nbconvert_exporter": "python",
   "pygments_lexer": "ipython3",
   "version": "3.7.1"
  }
 },
 "nbformat": 4,
 "nbformat_minor": 2
}
